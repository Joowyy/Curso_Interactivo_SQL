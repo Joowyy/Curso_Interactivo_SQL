{
 "cells": [
  {
   "cell_type": "markdown",
   "metadata": {},
   "source": [
    "\n",
    "## Subconsultas en SQL\n",
    "\n",
    "Una **subconsulta** es una consulta dentro de otra consulta SQL que se utiliza para realizar consultas más complejas. Estas subconsultas se anidan dentro de las instrucciones `SELECT`, `INSERT`, `UPDATE` o `DELETE` y pueden ayudar a filtrar resultados, calcular valores, y seleccionar datos según condiciones más específicas.\n",
    "\n",
    "### Características de las Subconsultas\n",
    "1. **Ubicación**: Pueden estar en la cláusula `SELECT`, `WHERE`, `FROM` o `HAVING` de una consulta.\n",
    "2. **Tipos**: Las subconsultas pueden ser:\n",
    "   - **Escalares**: Devuelven un solo valor.\n",
    "   - **De una sola columna**: Devuelven una lista de valores en una columna específica.\n",
    "   - **De varias columnas**: Devuelven una o más filas y columnas.\n",
    "3. **Operadores Relacionales**: Los operadores `IN`, `ANY`, `ALL`y `EXISTS` son herramientas útiles en SQL para comparar los resultados de subconsultas con los resultados de una consulta principal. Aquí te explico cada uno:\n",
    "\n",
    "   1. ***IN***\n",
    "   El operador IN se utiliza para verificar si un valor se encuentra dentro de un conjunto de valores devueltos por una subconsulta. Es una forma de simplificar las condiciones WHERE.\n",
    "\n",
    "   2. **ANY**\n",
    "   El operador ANY compara un valor con un conjunto de valores devueltos por una subconsulta. Si al menos una de las comparaciones es verdadera, la condición se cumple.\n",
    "\n",
    "   3. **ALL**\n",
    "   El operador ALL compara un valor con todos los valores devueltos por una subconsulta. La condición se cumple solo si la comparación es verdadera para todos los elementos del conjunto.\n",
    "\n",
    "   4. **EXISTS**\n",
    "   El operador EXISTS verifica si hay al menos una fila devuelta por una subconsulta. Se utiliza comúnmente en combinación con una subconsulta correlacionada."
   ]
  },
  {
   "cell_type": "markdown",
   "metadata": {},
   "source": [
    "<h2>1. Subconsulta en la cláusula SELECT</h2>\n",
    "\n",
    "<p>Generamos las tablas y los datos que vamos a usar como ejemplo:</p>"
   ]
  },
  {
   "cell_type": "code",
   "execution_count": null,
   "metadata": {},
   "outputs": [],
   "source": [
    "%load_ext sql\n",
    "\n",
    "# Conectarse a una base de datos SQLite en memoria\n",
    "%sql sqlite:///:memory:"
   ]
  },
  {
   "cell_type": "code",
   "execution_count": null,
   "metadata": {
    "vscode": {
     "languageId": "sql"
    }
   },
   "outputs": [],
   "source": [
    "%%sql\n",
    "CREATE TABLE empleados (\n",
    "    id INTEGER PRIMARY KEY AUTOINCREMENT,\n",
    "    nombre TEXT NOT NULL,\n",
    "    salario REAL NOT NULL,\n",
    "    departamento_id INTEGER\n",
    ");"
   ]
  },
  {
   "cell_type": "code",
   "execution_count": null,
   "metadata": {
    "vscode": {
     "languageId": "sql"
    }
   },
   "outputs": [],
   "source": [
    "%%sql\n",
    "CREATE TABLE departamentos (\n",
    "    id INTEGER PRIMARY KEY,\n",
    "    nombre TEXT NOT NULL\n",
    ");"
   ]
  },
  {
   "cell_type": "code",
   "execution_count": 14,
   "metadata": {
    "vscode": {
     "languageId": "sql"
    }
   },
   "outputs": [
    {
     "name": "stdout",
     "output_type": "stream",
     "text": [
      " * sqlite:///:memory:\n",
      "5 rows affected.\n"
     ]
    },
    {
     "data": {
      "text/plain": [
       "[]"
      ]
     },
     "execution_count": 14,
     "metadata": {},
     "output_type": "execute_result"
    }
   ],
   "source": [
    "%%sql\n",
    "INSERT INTO empleados (nombre, salario, departamento_id) \n",
    "VALUES ('Ana', 3000, 1),\n",
    "    ('Luis', 4500, 2),\n",
    "    ('Maria', 5000, 2),\n",
    "    ('Carlos', 3500, 3),\n",
    "    ('Sara', 4000, Null);"
   ]
  },
  {
   "cell_type": "code",
   "execution_count": 5,
   "metadata": {
    "vscode": {
     "languageId": "sql"
    }
   },
   "outputs": [
    {
     "name": "stdout",
     "output_type": "stream",
     "text": [
      " * sqlite:///:memory:\n",
      "3 rows affected.\n"
     ]
    },
    {
     "data": {
      "text/plain": [
       "[]"
      ]
     },
     "execution_count": 5,
     "metadata": {},
     "output_type": "execute_result"
    }
   ],
   "source": [
    "%%sql\n",
    "INSERT INTO departamentos (id, nombre) VALUES \n",
    "    (1, 'Recursos Humanos'),\n",
    "    (2, 'Ventas'),\n",
    "    (3, 'Tecnología');"
   ]
  },
  {
   "cell_type": "markdown",
   "metadata": {},
   "source": [
    "<p>Queremos mostrar a cada empleado con su salario y el nombre de su departamento. <p>Usaremos una subconsulta para obtener el nombre del departamento.</p>"
   ]
  },
  {
   "cell_type": "code",
   "execution_count": 15,
   "metadata": {
    "vscode": {
     "languageId": "sql"
    }
   },
   "outputs": [
    {
     "name": "stdout",
     "output_type": "stream",
     "text": [
      " * sqlite:///:memory:\n",
      "Done.\n"
     ]
    },
    {
     "data": {
      "text/html": [
       "<table>\n",
       "    <thead>\n",
       "        <tr>\n",
       "            <th>id</th>\n",
       "            <th>nombre</th>\n",
       "            <th>salario</th>\n",
       "            <th>departamento_id</th>\n",
       "        </tr>\n",
       "    </thead>\n",
       "    <tbody>\n",
       "        <tr>\n",
       "            <td>1</td>\n",
       "            <td>Ana</td>\n",
       "            <td>3000.0</td>\n",
       "            <td>1</td>\n",
       "        </tr>\n",
       "        <tr>\n",
       "            <td>2</td>\n",
       "            <td>Luis</td>\n",
       "            <td>4500.0</td>\n",
       "            <td>2</td>\n",
       "        </tr>\n",
       "        <tr>\n",
       "            <td>3</td>\n",
       "            <td>Maria</td>\n",
       "            <td>5000.0</td>\n",
       "            <td>2</td>\n",
       "        </tr>\n",
       "        <tr>\n",
       "            <td>4</td>\n",
       "            <td>Carlos</td>\n",
       "            <td>3500.0</td>\n",
       "            <td>3</td>\n",
       "        </tr>\n",
       "        <tr>\n",
       "            <td>5</td>\n",
       "            <td>Sara</td>\n",
       "            <td>4000.0</td>\n",
       "            <td>None</td>\n",
       "        </tr>\n",
       "    </tbody>\n",
       "</table>"
      ],
      "text/plain": [
       "[(1, 'Ana', 3000.0, 1),\n",
       " (2, 'Luis', 4500.0, 2),\n",
       " (3, 'Maria', 5000.0, 2),\n",
       " (4, 'Carlos', 3500.0, 3),\n",
       " (5, 'Sara', 4000.0, None)]"
      ]
     },
     "execution_count": 15,
     "metadata": {},
     "output_type": "execute_result"
    }
   ],
   "source": [
    "%%sql\n",
    "SELECT * FROM empleados;\n"
   ]
  },
  {
   "cell_type": "code",
   "execution_count": 9,
   "metadata": {
    "vscode": {
     "languageId": "sql"
    }
   },
   "outputs": [
    {
     "name": "stdout",
     "output_type": "stream",
     "text": [
      " * sqlite:///:memory:\n",
      "Done.\n"
     ]
    },
    {
     "data": {
      "text/html": [
       "<table>\n",
       "    <thead>\n",
       "        <tr>\n",
       "            <th>id</th>\n",
       "            <th>nombre</th>\n",
       "        </tr>\n",
       "    </thead>\n",
       "    <tbody>\n",
       "        <tr>\n",
       "            <td>1</td>\n",
       "            <td>Recursos Humanos</td>\n",
       "        </tr>\n",
       "        <tr>\n",
       "            <td>2</td>\n",
       "            <td>Ventas</td>\n",
       "        </tr>\n",
       "        <tr>\n",
       "            <td>3</td>\n",
       "            <td>Tecnología</td>\n",
       "        </tr>\n",
       "    </tbody>\n",
       "</table>"
      ],
      "text/plain": [
       "[(1, 'Recursos Humanos'), (2, 'Ventas'), (3, 'Tecnología')]"
      ]
     },
     "execution_count": 9,
     "metadata": {},
     "output_type": "execute_result"
    }
   ],
   "source": [
    "%%sql\n",
    "SELECT * FROM departamentos;"
   ]
  },
  {
   "cell_type": "code",
   "execution_count": 16,
   "metadata": {
    "vscode": {
     "languageId": "sql"
    }
   },
   "outputs": [
    {
     "name": "stdout",
     "output_type": "stream",
     "text": [
      " * sqlite:///:memory:\n",
      "Done.\n"
     ]
    },
    {
     "data": {
      "text/html": [
       "<table>\n",
       "    <thead>\n",
       "        <tr>\n",
       "            <th>empleado</th>\n",
       "            <th>salario</th>\n",
       "            <th>departamento</th>\n",
       "        </tr>\n",
       "    </thead>\n",
       "    <tbody>\n",
       "        <tr>\n",
       "            <td>Ana</td>\n",
       "            <td>3000.0</td>\n",
       "            <td>Recursos Humanos</td>\n",
       "        </tr>\n",
       "        <tr>\n",
       "            <td>Luis</td>\n",
       "            <td>4500.0</td>\n",
       "            <td>Ventas</td>\n",
       "        </tr>\n",
       "        <tr>\n",
       "            <td>Maria</td>\n",
       "            <td>5000.0</td>\n",
       "            <td>Ventas</td>\n",
       "        </tr>\n",
       "        <tr>\n",
       "            <td>Carlos</td>\n",
       "            <td>3500.0</td>\n",
       "            <td>Tecnología</td>\n",
       "        </tr>\n",
       "        <tr>\n",
       "            <td>Sara</td>\n",
       "            <td>4000.0</td>\n",
       "            <td>None</td>\n",
       "        </tr>\n",
       "    </tbody>\n",
       "</table>"
      ],
      "text/plain": [
       "[('Ana', 3000.0, 'Recursos Humanos'),\n",
       " ('Luis', 4500.0, 'Ventas'),\n",
       " ('Maria', 5000.0, 'Ventas'),\n",
       " ('Carlos', 3500.0, 'Tecnología'),\n",
       " ('Sara', 4000.0, None)]"
      ]
     },
     "execution_count": 16,
     "metadata": {},
     "output_type": "execute_result"
    }
   ],
   "source": [
    "%%sql\n",
    "SELECT \n",
    "    e.nombre AS empleado,\n",
    "    e.salario AS salario,\n",
    "    (SELECT nombre \n",
    "     FROM departamentos d \n",
    "     WHERE d.id = e.departamento_id) AS departamento\n",
    "FROM empleados e;"
   ]
  },
  {
   "cell_type": "markdown",
   "metadata": {},
   "source": [
    "<h2>2. Subconsulta en la cláusula WHERE</h2>\n",
    "<p>Queremos listar a los empleados que ganan más que el salario promedio.</p>"
   ]
  },
  {
   "cell_type": "code",
   "execution_count": 17,
   "metadata": {
    "vscode": {
     "languageId": "sql"
    }
   },
   "outputs": [
    {
     "name": "stdout",
     "output_type": "stream",
     "text": [
      " * sqlite:///:memory:\n",
      "Done.\n"
     ]
    },
    {
     "data": {
      "text/html": [
       "<table>\n",
       "    <thead>\n",
       "        <tr>\n",
       "            <th>nombre</th>\n",
       "            <th>salario</th>\n",
       "        </tr>\n",
       "    </thead>\n",
       "    <tbody>\n",
       "        <tr>\n",
       "            <td>Luis</td>\n",
       "            <td>4500.0</td>\n",
       "        </tr>\n",
       "        <tr>\n",
       "            <td>Maria</td>\n",
       "            <td>5000.0</td>\n",
       "        </tr>\n",
       "    </tbody>\n",
       "</table>"
      ],
      "text/plain": [
       "[('Luis', 4500.0), ('Maria', 5000.0)]"
      ]
     },
     "execution_count": 17,
     "metadata": {},
     "output_type": "execute_result"
    }
   ],
   "source": [
    "%%sql\n",
    "SELECT \n",
    "    nombre,\n",
    "    salario\n",
    "FROM empleados\n",
    "WHERE salario > (SELECT AVG(salario) FROM empleados);"
   ]
  },
  {
   "cell_type": "markdown",
   "metadata": {},
   "source": [
    "<h2>3. Subconsulta en una cláusula UPDATE</h2>\n",
    "<p>Vamos a incrementar el salario de los empleados que ganan menos que el salario promedio.</p>"
   ]
  },
  {
   "cell_type": "code",
   "execution_count": null,
   "metadata": {
    "vscode": {
     "languageId": "sql"
    }
   },
   "outputs": [],
   "source": [
    "%%sql\n",
    "SELECT * FROM empleados;"
   ]
  },
  {
   "cell_type": "code",
   "execution_count": 18,
   "metadata": {
    "vscode": {
     "languageId": "sql"
    }
   },
   "outputs": [
    {
     "name": "stdout",
     "output_type": "stream",
     "text": [
      " * sqlite:///:memory:\n",
      "2 rows affected.\n"
     ]
    },
    {
     "data": {
      "text/plain": [
       "[]"
      ]
     },
     "execution_count": 18,
     "metadata": {},
     "output_type": "execute_result"
    }
   ],
   "source": [
    "%%sql\n",
    "UPDATE empleados\n",
    "SET salario = salario * 1.1\n",
    "WHERE salario < (SELECT AVG(salario) FROM empleados);"
   ]
  },
  {
   "cell_type": "markdown",
   "metadata": {},
   "source": [
    "<h2>4. Subconsulta en la cláusula FROM</h2>\n",
    "<p>Calcular la cantidad de empleados por departamento</p>"
   ]
  },
  {
   "cell_type": "code",
   "execution_count": 19,
   "metadata": {
    "vscode": {
     "languageId": "sql"
    }
   },
   "outputs": [
    {
     "name": "stdout",
     "output_type": "stream",
     "text": [
      " * sqlite:///:memory:\n",
      "Done.\n"
     ]
    },
    {
     "data": {
      "text/html": [
       "<table>\n",
       "    <thead>\n",
       "        <tr>\n",
       "            <th>departamento_id</th>\n",
       "            <th>cantidad_empleados</th>\n",
       "        </tr>\n",
       "    </thead>\n",
       "    <tbody>\n",
       "        <tr>\n",
       "            <td>None</td>\n",
       "            <td>1</td>\n",
       "        </tr>\n",
       "        <tr>\n",
       "            <td>1</td>\n",
       "            <td>1</td>\n",
       "        </tr>\n",
       "        <tr>\n",
       "            <td>2</td>\n",
       "            <td>2</td>\n",
       "        </tr>\n",
       "        <tr>\n",
       "            <td>3</td>\n",
       "            <td>1</td>\n",
       "        </tr>\n",
       "    </tbody>\n",
       "</table>"
      ],
      "text/plain": [
       "[(None, 1), (1, 1), (2, 2), (3, 1)]"
      ]
     },
     "execution_count": 19,
     "metadata": {},
     "output_type": "execute_result"
    }
   ],
   "source": [
    "%%sql\n",
    "SELECT \n",
    "    departamento_id,\n",
    "    cantidad_empleados\n",
    "FROM \n",
    "    (SELECT departamento_id, COUNT(*) AS cantidad_empleados\n",
    "     FROM empleados\n",
    "     GROUP BY departamento_id) subconsulta;"
   ]
  },
  {
   "cell_type": "markdown",
   "metadata": {},
   "source": [
    "<h2>5. Subconsulta en una sentencia INSERT</h2>\n",
    "<p>Vamos a insertar un nuevo empleado en el departamento con el menor número de empleados.</p>"
   ]
  },
  {
   "cell_type": "code",
   "execution_count": 20,
   "metadata": {
    "vscode": {
     "languageId": "sql"
    }
   },
   "outputs": [
    {
     "name": "stdout",
     "output_type": "stream",
     "text": [
      " * sqlite:///:memory:\n",
      "Done.\n"
     ]
    },
    {
     "data": {
      "text/html": [
       "<table>\n",
       "    <thead>\n",
       "        <tr>\n",
       "            <th>id</th>\n",
       "            <th>nombre</th>\n",
       "            <th>salario</th>\n",
       "            <th>departamento_id</th>\n",
       "        </tr>\n",
       "    </thead>\n",
       "    <tbody>\n",
       "        <tr>\n",
       "            <td>1</td>\n",
       "            <td>Ana</td>\n",
       "            <td>3300.0000000000005</td>\n",
       "            <td>1</td>\n",
       "        </tr>\n",
       "        <tr>\n",
       "            <td>2</td>\n",
       "            <td>Luis</td>\n",
       "            <td>4500.0</td>\n",
       "            <td>2</td>\n",
       "        </tr>\n",
       "        <tr>\n",
       "            <td>3</td>\n",
       "            <td>Maria</td>\n",
       "            <td>5000.0</td>\n",
       "            <td>2</td>\n",
       "        </tr>\n",
       "        <tr>\n",
       "            <td>4</td>\n",
       "            <td>Carlos</td>\n",
       "            <td>3850.0000000000005</td>\n",
       "            <td>3</td>\n",
       "        </tr>\n",
       "        <tr>\n",
       "            <td>5</td>\n",
       "            <td>Sara</td>\n",
       "            <td>4000.0</td>\n",
       "            <td>None</td>\n",
       "        </tr>\n",
       "    </tbody>\n",
       "</table>"
      ],
      "text/plain": [
       "[(1, 'Ana', 3300.0000000000005, 1),\n",
       " (2, 'Luis', 4500.0, 2),\n",
       " (3, 'Maria', 5000.0, 2),\n",
       " (4, 'Carlos', 3850.0000000000005, 3),\n",
       " (5, 'Sara', 4000.0, None)]"
      ]
     },
     "execution_count": 20,
     "metadata": {},
     "output_type": "execute_result"
    }
   ],
   "source": [
    "%%sql\n",
    "SELECT * FROM empleados;"
   ]
  },
  {
   "cell_type": "code",
   "execution_count": null,
   "metadata": {
    "vscode": {
     "languageId": "sql"
    }
   },
   "outputs": [],
   "source": [
    "%%sql\n",
    "INSERT INTO empleados (nombre, salario, departamento_id)\n",
    "VALUES ('Jorge', 2800, \n",
    "        (SELECT departamento_id \n",
    "         FROM (SELECT departamento_id, COUNT(*) AS empleados\n",
    "               FROM empleados\n",
    "               GROUP BY departamento_id\n",
    "               ORDER BY empleados ASC LIMIT 1)\n",
    "        )\n",
    ");"
   ]
  },
  {
   "cell_type": "markdown",
   "metadata": {},
   "source": [
    "\n",
    "### Ejercicios de Subconsultas en la clausula WHERE\n",
    "\n",
    "A continuación se muestran 10 ejercicios de subconsultas en SQL para practicar:\n"
   ]
  },
  {
   "cell_type": "code",
   "execution_count": null,
   "metadata": {},
   "outputs": [],
   "source": [
    "%%sql\n",
    "CREATE TABLE Clientes (\n",
    "    cliente_id INTEGER PRIMARY KEY,\n",
    "    nombre VARCHAR(50),\n",
    "    apellido VARCHAR(50),\n",
    "    pais VARCHAR(50),\n",
    "    edad INTEGER\n",
    ");\n",
    "\n",
    "CREATE TABLE Pedidos (\n",
    "    pedido_id INT PRIMARY KEY,\n",
    "    producto VARCHAR(50),\n",
    "    cantidad INT,\n",
    "    cliente_id INT,\n",
    "    pendiente BOOLEAN,\n",
    "    FOREIGN KEY (cliente_id) REFERENCES Clientes(cliente_id)\n",
    ");\n",
    "\n",
    "INSERT INTO Clientes (cliente_id, nombre, apellido, pais, edad) VALUES\n",
    "(1, 'Juan', 'Pérez', 'España', 30),\n",
    "(2, 'Ana', 'García', 'México', 25),\n",
    "(3, 'Luis', 'Martínez', 'Argentina', 35),\n",
    "(4, NULL, NULL,NULL, NULL),\n",
    "(5, 'Carlos', 'González', 'Colombia', 40),\n",
    "(6, 'Laura', 'Fernández', 'Chile', 22),\n",
    "(7, 'Pedro', 'Sánchez', 'España', 31),\n",
    "(8, 'Jhon', 'Doe', 'Reino Unido', 29),\n",
    "(9, 'Isabel', 'Núñez', 'México', 26),\n",
    "(10, 'Miguel', 'Romero', 'Perú', 33);\n",
    "\n",
    "INSERT INTO Pedidos (pedido_id, producto, cantidad, cliente_id, pendiente) VALUES\n",
    "(1, 'Teclado', 5, 1, FALSE),\n",
    "(2, 'Ratón', 3, 2, TRUE),\n",
    "(3, 'Teclado', 4, 3, FALSE),\n",
    "(4, 'Ratón', 2, NULL, TRUE),\n",
    "(5, 'Monitor', 1, 5, FALSE),\n",
    "(6, 'Teclado', 2, 6, TRUE),\n",
    "(7, 'Ratón', 4, 7, FALSE),\n",
    "(8, 'Teclado', 3, 8, TRUE),\n",
    "(9, 'Monitor', 2, 9, FALSE),\n",
    "(10, 'Ratón', 5, 10, TRUE);"
   ]
  },
  {
   "cell_type": "markdown",
   "metadata": {},
   "source": [
    "\n",
    "1. **Obtener el nombre y apellido de los clientes que tienen algún pedido pendiente:**"
   ]
  },
  {
   "cell_type": "code",
   "execution_count": null,
   "metadata": {
    "vscode": {
     "languageId": "sql"
    }
   },
   "outputs": [],
   "source": [
    "%%sql\n"
   ]
  },
  {
   "cell_type": "markdown",
   "metadata": {},
   "source": [
    "2. **Listar los productos pedidos por clientes de España:**:"
   ]
  },
  {
   "cell_type": "code",
   "execution_count": null,
   "metadata": {
    "vscode": {
     "languageId": "sql"
    }
   },
   "outputs": [],
   "source": [
    "%%sql\n",
    "\n"
   ]
  },
  {
   "cell_type": "markdown",
   "metadata": {},
   "source": [
    "3. **Clientes que han hecho pedidos de más de 3 productos en un solo pedido:**"
   ]
  },
  {
   "cell_type": "code",
   "execution_count": null,
   "metadata": {
    "vscode": {
     "languageId": "sql"
    }
   },
   "outputs": [],
   "source": [
    "%%sql\n",
    "\n"
   ]
  },
  {
   "cell_type": "markdown",
   "metadata": {},
   "source": [
    "4. **Clientes cuyo nombre, apellido o país son desconocidos (valores NULL):**"
   ]
  },
  {
   "cell_type": "code",
   "execution_count": null,
   "metadata": {
    "vscode": {
     "languageId": "sql"
    }
   },
   "outputs": [],
   "source": [
    "%%sql\n"
   ]
  },
  {
   "cell_type": "markdown",
   "metadata": {},
   "source": [
    "5. **Edad promedio de los clientes con pedidos pendientes:**"
   ]
  },
  {
   "cell_type": "code",
   "execution_count": null,
   "metadata": {
    "vscode": {
     "languageId": "sql"
    }
   },
   "outputs": [],
   "source": [
    "%%sql\n"
   ]
  },
  {
   "cell_type": "markdown",
   "metadata": {},
   "source": [
    "6. **Obtener el país de los clientes que han pedido un 'Monitor':**"
   ]
  },
  {
   "cell_type": "code",
   "execution_count": null,
   "metadata": {
    "vscode": {
     "languageId": "sql"
    }
   },
   "outputs": [],
   "source": [
    "%%sql\n"
   ]
  },
  {
   "cell_type": "markdown",
   "metadata": {},
   "source": [
    "7. **Clientes que han hecho pedidos tanto de 'Teclado' como de 'Ratón':**"
   ]
  },
  {
   "cell_type": "code",
   "execution_count": null,
   "metadata": {
    "vscode": {
     "languageId": "sql"
    }
   },
   "outputs": [],
   "source": [
    "%%sql\n"
   ]
  },
  {
   "cell_type": "markdown",
   "metadata": {},
   "source": [
    "8. **Clientes con edad superior al promedio de los clientes que viven en México:**"
   ]
  },
  {
   "cell_type": "code",
   "execution_count": null,
   "metadata": {
    "vscode": {
     "languageId": "sql"
    }
   },
   "outputs": [],
   "source": [
    "%%sql\n"
   ]
  },
  {
   "cell_type": "markdown",
   "metadata": {},
   "source": [
    "9. **Listar los clientes que no tienen pedidos registrados:**"
   ]
  },
  {
   "cell_type": "code",
   "execution_count": null,
   "metadata": {
    "vscode": {
     "languageId": "sql"
    }
   },
   "outputs": [],
   "source": [
    "%%sql\n"
   ]
  },
  {
   "cell_type": "markdown",
   "metadata": {},
   "source": [
    "10. **Obtener el cliente que tiene el pedido con la mayor cantidad de productos:**"
   ]
  },
  {
   "cell_type": "code",
   "execution_count": null,
   "metadata": {
    "vscode": {
     "languageId": "sql"
    }
   },
   "outputs": [],
   "source": [
    "%%sql\n"
   ]
  }
 ],
 "metadata": {
  "kernelspec": {
   "display_name": "Python 3",
   "language": "python",
   "name": "python3"
  },
  "language_info": {
   "codemirror_mode": {
    "name": "ipython",
    "version": 3
   },
   "file_extension": ".py",
   "mimetype": "text/x-python",
   "name": "python",
   "nbconvert_exporter": "python",
   "pygments_lexer": "ipython3",
   "version": "3.12.0"
  }
 },
 "nbformat": 4,
 "nbformat_minor": 2
}
