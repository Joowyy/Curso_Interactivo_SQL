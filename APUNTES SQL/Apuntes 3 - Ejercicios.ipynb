{
 "cells": [
  {
   "cell_type": "markdown",
   "metadata": {},
   "source": [
    "<h1>Ejercicios</h1>\n",
    "\n",
    "<h2>Sentencias <code>INSERT INTO</code> , <code>UPDATE</code>, <code>DELETE</code>, <code>ALTER</code> y <code>DROP</code> </h2>"
   ]
  },
  {
   "cell_type": "markdown",
   "metadata": {},
   "source": [
    "<h3>Creamos las Tablas</h3>\n",
    "<p>A continuación, vamos a crear las tablas que nos servirán para realizar los ejercicios.</p>\n",
    "<p>Realizamos la conexión a nuestra base de datos SQLITE, que se encuentra en memoria, y generamos las tablas e insertamos los datos.</p>"
   ]
  },
  {
   "cell_type": "code",
   "execution_count": null,
   "metadata": {},
   "outputs": [],
   "source": [
    "%load_ext sql\n",
    "\n",
    "# Conectarse a una base de datos SQLite en memoria\n",
    "%sql sqlite:///:memory:"
   ]
  },
  {
   "cell_type": "markdown",
   "metadata": {},
   "source": [
    "<h5>1. Creamos una Tabla llamada <code>CLIENTES</code></h5>"
   ]
  },
  {
   "cell_type": "code",
   "execution_count": null,
   "metadata": {
    "vscode": {
     "languageId": "sql"
    }
   },
   "outputs": [],
   "source": [
    "%%sql\n",
    "CREATE TABLE Clientes (\n",
    "    cliente_id INTEGER PRIMARY KEY,\n",
    "    nombre VARCHAR(50),\n",
    "    apellido VARCHAR(50),\n",
    "    pais VARCHAR(50),\n",
    "    edad INTEGER\n",
    ");"
   ]
  },
  {
   "cell_type": "code",
   "execution_count": null,
   "metadata": {
    "vscode": {
     "languageId": "sql"
    }
   },
   "outputs": [],
   "source": [
    "%%sql\n",
    "CREATE TABLE Pedidos (\n",
    "    pedido_id INT PRIMARY KEY,\n",
    "    fecha DATE,\n",
    "    producto VARCHAR(50),\n",
    "    cantidad INT,\n",
    "    cliente_id INT,\n",
    "    pendiente BOOLEAN,\n",
    "    FOREIGN KEY (cliente_id) REFERENCES Clientes(cliente_id)\n",
    ");"
   ]
  },
  {
   "cell_type": "markdown",
   "metadata": {},
   "source": [
    "<h5>3. Creamos la Tabla <code>Empleados</code></h5>"
   ]
  },
  {
   "cell_type": "code",
   "execution_count": null,
   "metadata": {
    "vscode": {
     "languageId": "sql"
    }
   },
   "outputs": [],
   "source": [
    "%%sql\n",
    "CREATE TABLE Empleados (\n",
    "    id INTEGER PRIMARY KEY AUTOINCREMENT,\n",
    "    nombre TEXT NOT NULL,\n",
    "    departamento TEXT NOT NULL,\n",
    "    salario REAL NOT NULL,\n",
    "    correo TEXT\n",
    ");"
   ]
  },
  {
   "cell_type": "markdown",
   "metadata": {},
   "source": [
    "<h3>Insertamos datos en la tabla <b>Clientes</b>:</h3>"
   ]
  },
  {
   "cell_type": "code",
   "execution_count": null,
   "metadata": {
    "vscode": {
     "languageId": "sql"
    }
   },
   "outputs": [],
   "source": [
    "%%sql\n",
    "INSERT INTO Clientes (cliente_id, nombre, apellido, pais, edad) VALUES\n",
    "(1, 'Juan', 'Pérez', 'España', 30),\n",
    "(2, 'Ana', 'García', 'México', 25),\n",
    "(3, 'Luis', 'Martínez', 'Argentina', 35),\n",
    "(4, NULL, NULL,NULL, NULL),\n",
    "(5, 'Carlos', 'González', 'Colombia', 40),\n",
    "(6, 'Laura', 'Fernández', 'Chile', 22),\n",
    "(7, 'Pedro', 'Sánchez', 'España', 31),\n",
    "(8, 'Jhon', 'Doe', 'Reino Unido', 29),\n",
    "(9, 'Isabel', 'Núñez', 'México', 26),\n",
    "(10, 'Miguel', 'Romero', 'Perú', 33);"
   ]
  },
  {
   "cell_type": "markdown",
   "metadata": {},
   "source": [
    "\n",
    "<h3>Insertamos datos en la tabla <b>Pedidos</b>:</h3>\n"
   ]
  },
  {
   "cell_type": "code",
   "execution_count": null,
   "metadata": {
    "vscode": {
     "languageId": "sql"
    }
   },
   "outputs": [],
   "source": [
    "%%sql\n",
    "INSERT INTO Pedidos (pedido_id, fecha, producto, cantidad, cliente_id, pendiente) VALUES\n",
    "(1, '10-10-2024', 'Teclado', 5, 1, FALSE),\n",
    "(2, '11-10-2024', 'Ratón', 3, 2, TRUE),\n",
    "(3, '12-10-2024', 'Teclado', 4, 3, FALSE),\n",
    "(4, '13-10-2024', 'Ratón', 2, NULL, TRUE),\n",
    "(5, '14-10-2024', 'Monitor', 1, 5, FALSE),\n",
    "(6, '15-10-2024', 'Teclado', 2, 6, TRUE),\n",
    "(7, '16-10-2024', 'Ratón', 4, 7, FALSE),\n",
    "(8, '17-10-2024', 'Teclado', 3, 8, TRUE),\n",
    "(9, '18-10-2024', 'Monitor', 2, 9, FALSE),\n",
    "(10, '19-10-2024', 'Ratón', 5, 10, TRUE);\n"
   ]
  },
  {
   "cell_type": "markdown",
   "metadata": {},
   "source": [
    "\n",
    "<h3>Insertamos datos en la tabla <b>Empleados</b>:</h3>\n"
   ]
  },
  {
   "cell_type": "code",
   "execution_count": null,
   "metadata": {
    "vscode": {
     "languageId": "sql"
    }
   },
   "outputs": [],
   "source": [
    "%%sql\n",
    "INSERT INTO Empleados (nombre, departamento, salario, correo) VALUES \n",
    "('Ana', 'Ventas', 3500, 'ana@empresa.com'),\n",
    "('Luis', 'Ventas', 4200, 'luis@empresa.com'),\n",
    "('María', 'Marketing', 5000, 'maria@empresa.com'),\n",
    "('Carlos', 'Marketing', 4800, 'carlos@empresa.com'),\n",
    "('Laura', 'IT', 6000, 'laura@empresa.com'),\n",
    "('Jorge', 'IT', 6200, 'jorge@empresa.com'),\n",
    "('Sofía', 'Ventas', 3900, NULL),\n",
    "('Raúl', 'Recursos Humanos', 3700, 'raul@empresa.com'),\n",
    "('Elena', 'Recursos Humanos', 4100, NULL),\n",
    "('Marta', 'IT', 5700, 'marta@empresa.com');"
   ]
  },
  {
   "cell_type": "markdown",
   "metadata": {},
   "source": [
    "<h2>Ejercicios</h2>"
   ]
  },
  {
   "cell_type": "markdown",
   "metadata": {},
   "source": [
    "<p>A continuación, se presentan 20 ejercicios que involucran el uso de <code>INSERT INTO</code> y <code>UPDATE</code> para practicar operaciones en las tablas <code>Clientes</code>, <code>Pedidos</code>, y <code>Empleados</code>. Los primeros 10 ejercicios están orientados a <code>INSERT INTO</code>, y los siguientes 10 a <code>UPDATE</code>.</p>\n",
    "\n",
    "<h3 style=\"color: #3498db;\">Ejercicios de <code>INSERT INTO</code></h3>\n",
    "\n",
    "<ol>\n",
    "    <li>Insertar un nuevo cliente llamado \"Lucía Gómez\" de Uruguay, de 28 años.</li>\n",
    "    <li>Agregar un pedido nuevo para el cliente con <code>cliente_id = 1</code>, con el producto \"Laptop\", cantidad de 2, y pendiente.</li>\n",
    "    <li>Insertar un cliente con solo el <code>cliente_id = 11</code>, dejando los demás campos en <code>NULL</code>.</li>\n",
    "    <li>Agregar un nuevo empleado llamado \"José\", en el departamento \"Ventas\", con salario 3600 y sin correo electrónico.</li>\n",
    "    <li>Insertar un pedido para el cliente con <code>cliente_id = 8</code>, con el producto \"Tablet\", cantidad de 3, y pendiente en <code>FALSE</code>.</li>\n",
    "    <li>Insertar un cliente llamado \"Andrea Morales\", de Chile, sin especificar la edad.</li>\n",
    "    <li>Agregar un nuevo pedido para el cliente con <code>cliente_id = 2</code>, con el producto \"Monitor\", cantidad de 1, y pendiente en <code>TRUE</code>.</li>\n",
    "    <li>Insertar un nuevo cliente llamado \"Roberto Castillo\" de Perú, con 40 años de edad.</li>\n",
    "    <li>Agregar un nuevo empleado llamado \"Isabel\" en el departamento \"Recursos Humanos\" con salario 4300 y correo \"isabel@empresa.com\".</li>\n",
    "    <li>Insertar un pedido para un cliente no existente (<code>cliente_id = 15</code>), para el producto \"Auriculares\", cantidad 2, y pendiente.</li>\n",
    "</ol>\n",
    "\n",
    "<h3 style=\"color: #3498db;\">Ejercicios de <code>UPDATE</code></h3>\n",
    "\n",
    "<ol start=\"11\">\n",
    "    <li>Actualizar la edad de \"Ana García\" en la tabla <code>Clientes</code> a 26 años.</li>\n",
    "    <li>Cambiar el país de \"Carlos González\" a \"Venezuela\".</li>\n",
    "    <li>Actualizar la cantidad del pedido con <code>pedido_id = 6</code> a 5 unidades.</li>\n",
    "    <li>Modificar el estado de pendiente del pedido con <code>pedido_id = 4</code> a <code>FALSE</code>.</li>\n",
    "    <li>Cambiar el salario de \"María\" en el departamento de \"Marketing\" a 5100.</li>\n",
    "    <li>Actualizar el país del cliente con <code>cliente_id = 10</code> a \"Chile\".</li>\n",
    "    <li>Modificar el nombre del cliente con <code>cliente_id = 8</code> a \"John Doe\" (corrección de nombre).</li>\n",
    "    <li>Cambiar el salario de todos los empleados en el departamento \"IT\" incrementándolo en 500.</li>\n",
    "    <li>Cambiar el producto del pedido con <code>pedido_id = 3</code> de \"Teclado\" a \"Monitor\".</li>\n",
    "    <li>Actualizar el departamento de \"Raúl\" en <code>Empleados</code> a \"IT\".</li>\n",
    "</ol>\n",
    "\n",
    "<p>Realiza cada uno de los ejercicios de <code>INSERT INTO</code> y <code>UPDATE</code> en tu base de datos y observa los resultados. Asegúrate de cumplir con las restricciones de cada tabla para evitar errores en las operaciones.</p>\n"
   ]
  },
  {
   "cell_type": "markdown",
   "metadata": {},
   "source": [
    "<h3 style=\"color: #3498db;\">Ejercicios de <code>DELETE</code></h3>\n",
    "<ol start=\"21\">\n",
    "  <li>Eliminar un cliente por su <code>cliente_id</code>.</li>\n",
    "  <li>Eliminar un pedido con un <code>pedido_id</code> específico.</li>\n",
    "  <li>Eliminar todos los pedidos pendientes.</li>\n",
    "  <li>Eliminar empleados que no tienen correo electrónico.</li>\n",
    "  <li>Eliminar un cliente por su nombre y apellido.</li>\n",
    "  <li>Eliminar todos los empleados del departamento de 'Marketing'.</li>\n",
    "  <li>Eliminar todos los pedidos de un cliente específico.</li>\n",
    "  <li>Eliminar todos los pedidos con una cantidad mayor que 3.</li>\n",
    "  <li>Eliminar empleados con un salario menor a 4000.</li>\n",
    "  <li>Eliminar todos los pedidos sin un cliente asignado.</li>\n",
    "</ol>\n",
    "<h3 style=\"color: #3498db;\">Ejercicios de <code>ALTER</code></h3>\n",
    "<ol start=\"31\">\n",
    "  <li>Agregar una columna <code>fecha_nacimiento</code> a la tabla <code>Clientes</code>.</li>\n",
    "  <li>Cambiar el tipo de dato de la columna <code>edad</code> a <code>VARCHAR(3)</code> en la tabla <code>Clientes</code>.</li>\n",
    "  <li>Eliminar una columna de la tabla <code>Empleados</code>.</li>\n",
    "  <li>Renombrar la columna <code>nombre</code> a <code>nombre_completo</code> en la tabla <code>Empleados</code>.</li>\n",
    "  <li>Agregar una clave primaria a la columna <code>pedido_id</code> en la tabla <code>Pedidos</code>.</li>\n",
    "  <li>Agregar una restricción de <code>NOT NULL</code> a la columna <code>pais</code> en la tabla <code>Clientes</code>.</li>\n",
    "  <li>Cambiar el nombre de la tabla <code>Empleados</code> a <code>Trabajadores</code>.</li>\n",
    "  <li>Modificar la columna <code>salario</code> de la tabla <code>Empleados</code> para que tenga un valor por defecto de 3000.</li>\n",
    "  <li>Cambiar el nombre de la tabla <code>Pedidos</code> a <code>Ordenes</code>.</li>\n",
    "</ol>\n",
    "<h3 style=\"color: #3498db;\">Ejercicios de <code>DROP</code></h3>\n",
    "<ol start=\"40\">\n",
    "  <li>Eliminar la tabla <code>Pedidos</code>.</li>\n",
    "</ol>"
   ]
  }
 ],
 "metadata": {
  "kernelspec": {
   "display_name": "Python 3",
   "language": "python",
   "name": "python3"
  },
  "language_info": {
   "codemirror_mode": {
    "name": "ipython",
    "version": 3
   },
   "file_extension": ".py",
   "mimetype": "text/x-python",
   "name": "python",
   "nbconvert_exporter": "python",
   "pygments_lexer": "ipython3",
   "version": "3.12.0"
  }
 },
 "nbformat": 4,
 "nbformat_minor": 2
}
