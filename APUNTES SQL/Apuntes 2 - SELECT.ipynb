{
 "cells": [
  {
   "cell_type": "markdown",
   "metadata": {},
   "source": [
    "<h1>Base de Datos 2</h1>\n",
    "\n",
    "<h2>Sentencias <code>SELECT</code></h2>"
   ]
  },
  {
   "cell_type": "markdown",
   "metadata": {},
   "source": [
    "<h3>Creación de las Tablas</h3>\n",
    "<p>A continuación, vamos a crear las tablas que nos servirán de ejemplo para realizar los ejercicios de estos apuntes.</p>\n",
    "<p>Realizamos la conexión a nuestra base de datos SQLITE, que se encuentra en memoria.</p>"
   ]
  },
  {
   "cell_type": "code",
   "execution_count": 1,
   "metadata": {},
   "outputs": [],
   "source": [
    "%load_ext sql\n",
    "\n",
    "# Conectarse a una base de datos SQLite en memoria\n",
    "%sql sqlite:///:memory:"
   ]
  },
  {
   "cell_type": "markdown",
   "metadata": {},
   "source": [
    "<h5>1. Creamos una Tabla llamada <code>CLIENTES</code></h5>"
   ]
  },
  {
   "cell_type": "code",
   "execution_count": 2,
   "metadata": {
    "vscode": {
     "languageId": "sql"
    }
   },
   "outputs": [
    {
     "name": "stdout",
     "output_type": "stream",
     "text": [
      " * sqlite:///:memory:\n",
      "Done.\n"
     ]
    },
    {
     "data": {
      "text/plain": [
       "[]"
      ]
     },
     "execution_count": 2,
     "metadata": {},
     "output_type": "execute_result"
    }
   ],
   "source": [
    "%%sql\n",
    "CREATE TABLE Clientes (\n",
    "    cliente_id INTEGER PRIMARY KEY,\n",
    "    nombre VARCHAR(50),\n",
    "    apellido VARCHAR(50),\n",
    "    pais VARCHAR(50),\n",
    "    edad INTEGER\n",
    ");"
   ]
  },
  {
   "cell_type": "markdown",
   "metadata": {},
   "source": [
    "\n",
    "<p><b>Explicación:</b></p>\n",
    "<ul>\n",
    "<li><b>cliente_id:</b> Identificador único para cada cliente.</li>\n",
    "<li><b>nombre:</b> Nombre del cliente.</li>\n",
    "<li><b>apellido:</b> Apellido del cliente.</li>\n",
    "<li><b>pais:</b> País de origen del cliente.</li>\n",
    "<li><b>edad:</b> Edad del cliente.</li>\n",
    "</ul>\n",
    "\n",
    "<h5>2. Creamos la Tabla <code>PEDIDOS</code></h5>\n"
   ]
  },
  {
   "cell_type": "code",
   "execution_count": 3,
   "metadata": {
    "vscode": {
     "languageId": "sql"
    }
   },
   "outputs": [
    {
     "name": "stdout",
     "output_type": "stream",
     "text": [
      " * sqlite:///:memory:\n",
      "Done.\n"
     ]
    },
    {
     "data": {
      "text/plain": [
       "[]"
      ]
     },
     "execution_count": 3,
     "metadata": {},
     "output_type": "execute_result"
    }
   ],
   "source": [
    "%%sql\n",
    "CREATE TABLE Pedidos (\n",
    "    pedido_id INT PRIMARY KEY,\n",
    "    fecha DATE,\n",
    "    producto VARCHAR(50),\n",
    "    cantidad INT,\n",
    "    cliente_id INT,\n",
    "    pendiente BOOLEAN,\n",
    "    FOREIGN KEY (cliente_id) REFERENCES Clientes(cliente_id)\n",
    ");"
   ]
  },
  {
   "cell_type": "markdown",
   "metadata": {},
   "source": [
    "\n",
    "<p><b>Explicación:</b></p>\n",
    "<ul>\n",
    "<li><b>pedido_id:</b> Identificador único para cada pedido.</li>\n",
    "<li><b>producto:</b> El producto comprado.</li>\n",
    "<li><b>cantidad:</b> Cantidad del producto en el pedido.</li>\n",
    "<li><b>cliente_id:</b> Relación con el cliente (FK que referencia a la tabla Clientes).</li>\n",
    "<li><b>pendiente:</b> Si el pedido está pendiente (TRUE) o no (FALSE).</li>\n",
    "</ul>"
   ]
  },
  {
   "cell_type": "markdown",
   "metadata": {},
   "source": [
    "<h5>3. Creamos la Tabla <code>Empleados</code></h5>"
   ]
  },
  {
   "cell_type": "code",
   "execution_count": 4,
   "metadata": {
    "vscode": {
     "languageId": "sql"
    }
   },
   "outputs": [
    {
     "name": "stdout",
     "output_type": "stream",
     "text": [
      " * sqlite:///:memory:\n",
      "Done.\n"
     ]
    },
    {
     "data": {
      "text/plain": [
       "[]"
      ]
     },
     "execution_count": 4,
     "metadata": {},
     "output_type": "execute_result"
    }
   ],
   "source": [
    "%%sql\n",
    "CREATE TABLE Empleados (\n",
    "    id INTEGER PRIMARY KEY AUTOINCREMENT,\n",
    "    nombre TEXT NOT NULL,\n",
    "    departamento TEXT NOT NULL,\n",
    "    salario REAL NOT NULL,\n",
    "    correo TEXT\n",
    ");"
   ]
  },
  {
   "cell_type": "markdown",
   "metadata": {},
   "source": [
    "<h5>Comprobamos si se han creado correctamente</h5>"
   ]
  },
  {
   "cell_type": "code",
   "execution_count": 5,
   "metadata": {
    "vscode": {
     "languageId": "sql"
    }
   },
   "outputs": [
    {
     "name": "stdout",
     "output_type": "stream",
     "text": [
      " * sqlite:///:memory:\n",
      "Done.\n"
     ]
    },
    {
     "data": {
      "text/html": [
       "<table>\n",
       "    <thead>\n",
       "        <tr>\n",
       "            <th>cliente_id</th>\n",
       "            <th>nombre</th>\n",
       "            <th>apellido</th>\n",
       "            <th>pais</th>\n",
       "            <th>edad</th>\n",
       "        </tr>\n",
       "    </thead>\n",
       "    <tbody>\n",
       "    </tbody>\n",
       "</table>"
      ],
      "text/plain": [
       "[]"
      ]
     },
     "execution_count": 5,
     "metadata": {},
     "output_type": "execute_result"
    }
   ],
   "source": [
    "%sql SELECT * FROM Clientes;"
   ]
  },
  {
   "cell_type": "code",
   "execution_count": 6,
   "metadata": {
    "vscode": {
     "languageId": "sql"
    }
   },
   "outputs": [
    {
     "name": "stdout",
     "output_type": "stream",
     "text": [
      " * sqlite:///:memory:\n",
      "Done.\n"
     ]
    },
    {
     "data": {
      "text/html": [
       "<table>\n",
       "    <thead>\n",
       "        <tr>\n",
       "            <th>pedido_id</th>\n",
       "            <th>fecha</th>\n",
       "            <th>producto</th>\n",
       "            <th>cantidad</th>\n",
       "            <th>cliente_id</th>\n",
       "            <th>pendiente</th>\n",
       "        </tr>\n",
       "    </thead>\n",
       "    <tbody>\n",
       "    </tbody>\n",
       "</table>"
      ],
      "text/plain": [
       "[]"
      ]
     },
     "execution_count": 6,
     "metadata": {},
     "output_type": "execute_result"
    }
   ],
   "source": [
    "%sql SELECT * FROM Pedidos;"
   ]
  },
  {
   "cell_type": "code",
   "execution_count": 7,
   "metadata": {
    "vscode": {
     "languageId": "sql"
    }
   },
   "outputs": [
    {
     "name": "stdout",
     "output_type": "stream",
     "text": [
      " * sqlite:///:memory:\n",
      "Done.\n"
     ]
    },
    {
     "data": {
      "text/html": [
       "<table>\n",
       "    <thead>\n",
       "        <tr>\n",
       "            <th>id</th>\n",
       "            <th>nombre</th>\n",
       "            <th>departamento</th>\n",
       "            <th>salario</th>\n",
       "            <th>correo</th>\n",
       "        </tr>\n",
       "    </thead>\n",
       "    <tbody>\n",
       "    </tbody>\n",
       "</table>"
      ],
      "text/plain": [
       "[]"
      ]
     },
     "execution_count": 7,
     "metadata": {},
     "output_type": "execute_result"
    }
   ],
   "source": [
    "%sql SELECT * FROM Empleados;"
   ]
  },
  {
   "cell_type": "markdown",
   "metadata": {},
   "source": [
    "\n",
    "<h2>2. Inserción de Datos en las Tablas</h2>\n",
    "\n",
    "<h3>2.1. Sentencia <code>INSERT INTO</code></h3>\n",
    "<p>La sentencia <code>INSERT INTO</code> se utiliza para añadir nuevos registros en una tabla existente. A continuación, se muestra la sintaxis general:</p>\n",
    "\n",
    "<pre><code>INSERT INTO nombre_de_la_tabla (campo1, campo2, ..., campoN)\n",
    "VALUES (valor1, valor2, ..., valorN);</code></pre>\n",
    "\n",
    "<p><b>Explicación de la Sintaxis:</b></p>\n",
    "<ul>\n",
    "    <li><b>nombre_de_la_tabla:</b> El nombre de la tabla donde se insertarán los datos.</li>\n",
    "    <li><b>campo1, campo2, ..., campoN:</b> Los nombres de los campos en los que se insertarán los valores.</li>\n",
    "    <li><b>valor1, valor2, ..., valorN:</b> Los valores que se van a insertar en las columnas correspondientes de la tabla.</li>\n",
    "</ul>\n",
    "\n",
    "<h3>2.2. Ejemplo de Inserción de Datos</h3>\n",
    "\n",
    "<h3>Insertamos datos en la tabla <b>Clientes</b>:</h3>\n"
   ]
  },
  {
   "cell_type": "code",
   "execution_count": 8,
   "metadata": {
    "vscode": {
     "languageId": "sql"
    }
   },
   "outputs": [
    {
     "name": "stdout",
     "output_type": "stream",
     "text": [
      " * sqlite:///:memory:\n",
      "10 rows affected.\n"
     ]
    },
    {
     "data": {
      "text/plain": [
       "[]"
      ]
     },
     "execution_count": 8,
     "metadata": {},
     "output_type": "execute_result"
    }
   ],
   "source": [
    "%%sql\n",
    "INSERT INTO Clientes (cliente_id, nombre, apellido, pais, edad) VALUES\n",
    "(1, 'Juan', 'Pérez', 'España', 30),\n",
    "(2, 'Ana', 'García', 'México', 25),\n",
    "(3, 'Luis', 'Martínez', 'Argentina', 35),\n",
    "(4, NULL, NULL,NULL, NULL),\n",
    "(5, 'Carlos', 'González', 'Colombia', 40),\n",
    "(6, 'Laura', 'Fernández', 'Chile', 22),\n",
    "(7, 'Pedro', 'Sánchez', 'España', 31),\n",
    "(8, 'Jhon', 'Doe', 'Reino Unido', 29),\n",
    "(9, 'Isabel', 'Núñez', 'México', 26),\n",
    "(10, 'Miguel', 'Romero', 'Perú', 33);"
   ]
  },
  {
   "cell_type": "markdown",
   "metadata": {},
   "source": [
    "<p>Comprobamos si se han insertado correctamente</p>"
   ]
  },
  {
   "cell_type": "code",
   "execution_count": 9,
   "metadata": {
    "vscode": {
     "languageId": "sql"
    }
   },
   "outputs": [
    {
     "name": "stdout",
     "output_type": "stream",
     "text": [
      " * sqlite:///:memory:\n",
      "Done.\n"
     ]
    },
    {
     "data": {
      "text/html": [
       "<table>\n",
       "    <thead>\n",
       "        <tr>\n",
       "            <th>cliente_id</th>\n",
       "            <th>nombre</th>\n",
       "            <th>apellido</th>\n",
       "            <th>pais</th>\n",
       "            <th>edad</th>\n",
       "        </tr>\n",
       "    </thead>\n",
       "    <tbody>\n",
       "        <tr>\n",
       "            <td>1</td>\n",
       "            <td>Juan</td>\n",
       "            <td>Pérez</td>\n",
       "            <td>España</td>\n",
       "            <td>30</td>\n",
       "        </tr>\n",
       "        <tr>\n",
       "            <td>2</td>\n",
       "            <td>Ana</td>\n",
       "            <td>García</td>\n",
       "            <td>México</td>\n",
       "            <td>25</td>\n",
       "        </tr>\n",
       "        <tr>\n",
       "            <td>3</td>\n",
       "            <td>Luis</td>\n",
       "            <td>Martínez</td>\n",
       "            <td>Argentina</td>\n",
       "            <td>35</td>\n",
       "        </tr>\n",
       "        <tr>\n",
       "            <td>4</td>\n",
       "            <td>None</td>\n",
       "            <td>None</td>\n",
       "            <td>None</td>\n",
       "            <td>None</td>\n",
       "        </tr>\n",
       "        <tr>\n",
       "            <td>5</td>\n",
       "            <td>Carlos</td>\n",
       "            <td>González</td>\n",
       "            <td>Colombia</td>\n",
       "            <td>40</td>\n",
       "        </tr>\n",
       "        <tr>\n",
       "            <td>6</td>\n",
       "            <td>Laura</td>\n",
       "            <td>Fernández</td>\n",
       "            <td>Chile</td>\n",
       "            <td>22</td>\n",
       "        </tr>\n",
       "        <tr>\n",
       "            <td>7</td>\n",
       "            <td>Pedro</td>\n",
       "            <td>Sánchez</td>\n",
       "            <td>España</td>\n",
       "            <td>31</td>\n",
       "        </tr>\n",
       "        <tr>\n",
       "            <td>8</td>\n",
       "            <td>Jhon</td>\n",
       "            <td>Doe</td>\n",
       "            <td>Reino Unido</td>\n",
       "            <td>29</td>\n",
       "        </tr>\n",
       "        <tr>\n",
       "            <td>9</td>\n",
       "            <td>Isabel</td>\n",
       "            <td>Núñez</td>\n",
       "            <td>México</td>\n",
       "            <td>26</td>\n",
       "        </tr>\n",
       "        <tr>\n",
       "            <td>10</td>\n",
       "            <td>Miguel</td>\n",
       "            <td>Romero</td>\n",
       "            <td>Perú</td>\n",
       "            <td>33</td>\n",
       "        </tr>\n",
       "    </tbody>\n",
       "</table>"
      ],
      "text/plain": [
       "[(1, 'Juan', 'Pérez', 'España', 30),\n",
       " (2, 'Ana', 'García', 'México', 25),\n",
       " (3, 'Luis', 'Martínez', 'Argentina', 35),\n",
       " (4, None, None, None, None),\n",
       " (5, 'Carlos', 'González', 'Colombia', 40),\n",
       " (6, 'Laura', 'Fernández', 'Chile', 22),\n",
       " (7, 'Pedro', 'Sánchez', 'España', 31),\n",
       " (8, 'Jhon', 'Doe', 'Reino Unido', 29),\n",
       " (9, 'Isabel', 'Núñez', 'México', 26),\n",
       " (10, 'Miguel', 'Romero', 'Perú', 33)]"
      ]
     },
     "execution_count": 9,
     "metadata": {},
     "output_type": "execute_result"
    }
   ],
   "source": [
    "%sql SELECT * FROM Clientes;"
   ]
  },
  {
   "cell_type": "markdown",
   "metadata": {},
   "source": [
    "\n",
    "<h3>Insertamos datos en la tabla <b>Pedidos</b>:</h3>\n"
   ]
  },
  {
   "cell_type": "code",
   "execution_count": 10,
   "metadata": {
    "vscode": {
     "languageId": "sql"
    }
   },
   "outputs": [
    {
     "name": "stdout",
     "output_type": "stream",
     "text": [
      " * sqlite:///:memory:\n",
      "10 rows affected.\n"
     ]
    },
    {
     "data": {
      "text/plain": [
       "[]"
      ]
     },
     "execution_count": 10,
     "metadata": {},
     "output_type": "execute_result"
    }
   ],
   "source": [
    "%%sql\n",
    "INSERT INTO Pedidos (pedido_id, fecha, producto, cantidad, cliente_id, pendiente) VALUES\n",
    "(1, '10-10-2024', 'Teclado', 5, 1, FALSE),\n",
    "(2, '11-10-2024', 'Ratón', 3, 2, TRUE),\n",
    "(3, '12-10-2024', 'Teclado', 4, 3, FALSE),\n",
    "(4, '13-10-2024', 'Ratón', 2, NULL, TRUE),\n",
    "(5, '14-10-2024', 'Monitor', 1, 5, FALSE),\n",
    "(6, '15-10-2024', 'Teclado', 2, 6, TRUE),\n",
    "(7, '16-10-2024', 'Ratón', 4, 7, FALSE),\n",
    "(8, '17-10-2024', 'Teclado', 3, 8, TRUE),\n",
    "(9, '18-10-2024', 'Monitor', 2, 9, FALSE),\n",
    "(10, '19-10-2024', 'Ratón', 5, 10, TRUE);\n"
   ]
  },
  {
   "cell_type": "markdown",
   "metadata": {},
   "source": [
    "<p>Comprobamos si se han insertado correctamente</p>"
   ]
  },
  {
   "cell_type": "code",
   "execution_count": 11,
   "metadata": {},
   "outputs": [
    {
     "name": "stdout",
     "output_type": "stream",
     "text": [
      " * sqlite:///:memory:\n",
      "Done.\n"
     ]
    },
    {
     "data": {
      "text/html": [
       "<table>\n",
       "    <thead>\n",
       "        <tr>\n",
       "            <th>pedido_id</th>\n",
       "            <th>fecha</th>\n",
       "            <th>producto</th>\n",
       "            <th>cantidad</th>\n",
       "            <th>cliente_id</th>\n",
       "            <th>pendiente</th>\n",
       "        </tr>\n",
       "    </thead>\n",
       "    <tbody>\n",
       "        <tr>\n",
       "            <td>1</td>\n",
       "            <td>10-10-2024</td>\n",
       "            <td>Teclado</td>\n",
       "            <td>5</td>\n",
       "            <td>1</td>\n",
       "            <td>0</td>\n",
       "        </tr>\n",
       "        <tr>\n",
       "            <td>2</td>\n",
       "            <td>11-10-2024</td>\n",
       "            <td>Ratón</td>\n",
       "            <td>3</td>\n",
       "            <td>2</td>\n",
       "            <td>1</td>\n",
       "        </tr>\n",
       "        <tr>\n",
       "            <td>3</td>\n",
       "            <td>12-10-2024</td>\n",
       "            <td>Teclado</td>\n",
       "            <td>4</td>\n",
       "            <td>3</td>\n",
       "            <td>0</td>\n",
       "        </tr>\n",
       "        <tr>\n",
       "            <td>4</td>\n",
       "            <td>13-10-2024</td>\n",
       "            <td>Ratón</td>\n",
       "            <td>2</td>\n",
       "            <td>None</td>\n",
       "            <td>1</td>\n",
       "        </tr>\n",
       "        <tr>\n",
       "            <td>5</td>\n",
       "            <td>14-10-2024</td>\n",
       "            <td>Monitor</td>\n",
       "            <td>1</td>\n",
       "            <td>5</td>\n",
       "            <td>0</td>\n",
       "        </tr>\n",
       "        <tr>\n",
       "            <td>6</td>\n",
       "            <td>15-10-2024</td>\n",
       "            <td>Teclado</td>\n",
       "            <td>2</td>\n",
       "            <td>6</td>\n",
       "            <td>1</td>\n",
       "        </tr>\n",
       "        <tr>\n",
       "            <td>7</td>\n",
       "            <td>16-10-2024</td>\n",
       "            <td>Ratón</td>\n",
       "            <td>4</td>\n",
       "            <td>7</td>\n",
       "            <td>0</td>\n",
       "        </tr>\n",
       "        <tr>\n",
       "            <td>8</td>\n",
       "            <td>17-10-2024</td>\n",
       "            <td>Teclado</td>\n",
       "            <td>3</td>\n",
       "            <td>8</td>\n",
       "            <td>1</td>\n",
       "        </tr>\n",
       "        <tr>\n",
       "            <td>9</td>\n",
       "            <td>18-10-2024</td>\n",
       "            <td>Monitor</td>\n",
       "            <td>2</td>\n",
       "            <td>9</td>\n",
       "            <td>0</td>\n",
       "        </tr>\n",
       "        <tr>\n",
       "            <td>10</td>\n",
       "            <td>19-10-2024</td>\n",
       "            <td>Ratón</td>\n",
       "            <td>5</td>\n",
       "            <td>10</td>\n",
       "            <td>1</td>\n",
       "        </tr>\n",
       "    </tbody>\n",
       "</table>"
      ],
      "text/plain": [
       "[(1, '10-10-2024', 'Teclado', 5, 1, 0),\n",
       " (2, '11-10-2024', 'Ratón', 3, 2, 1),\n",
       " (3, '12-10-2024', 'Teclado', 4, 3, 0),\n",
       " (4, '13-10-2024', 'Ratón', 2, None, 1),\n",
       " (5, '14-10-2024', 'Monitor', 1, 5, 0),\n",
       " (6, '15-10-2024', 'Teclado', 2, 6, 1),\n",
       " (7, '16-10-2024', 'Ratón', 4, 7, 0),\n",
       " (8, '17-10-2024', 'Teclado', 3, 8, 1),\n",
       " (9, '18-10-2024', 'Monitor', 2, 9, 0),\n",
       " (10, '19-10-2024', 'Ratón', 5, 10, 1)]"
      ]
     },
     "execution_count": 11,
     "metadata": {},
     "output_type": "execute_result"
    }
   ],
   "source": [
    "%sql SELECT * FROM Pedidos;"
   ]
  },
  {
   "cell_type": "markdown",
   "metadata": {},
   "source": [
    "\n",
    "<h3>Insertamos datos en la tabla <b>Empleados</b>:</h3>\n"
   ]
  },
  {
   "cell_type": "code",
   "execution_count": 12,
   "metadata": {
    "vscode": {
     "languageId": "sql"
    }
   },
   "outputs": [
    {
     "name": "stdout",
     "output_type": "stream",
     "text": [
      " * sqlite:///:memory:\n",
      "10 rows affected.\n"
     ]
    },
    {
     "data": {
      "text/plain": [
       "[]"
      ]
     },
     "execution_count": 12,
     "metadata": {},
     "output_type": "execute_result"
    }
   ],
   "source": [
    "%%sql\n",
    "INSERT INTO Empleados (nombre, departamento, salario, correo) VALUES \n",
    "('Ana', 'Ventas', 3500, 'ana@empresa.com'),\n",
    "('Luis', 'Ventas', 4200, 'luis@empresa.com'),\n",
    "('María', 'Marketing', 5000, 'maria@empresa.com'),\n",
    "('Carlos', 'Marketing', 4800, 'carlos@empresa.com'),\n",
    "('Laura', 'IT', 6000, 'laura@empresa.com'),\n",
    "('Jorge', 'IT', 6200, 'jorge@empresa.com'),\n",
    "('Sofía', 'Ventas', 3900, NULL),\n",
    "('Raúl', 'Recursos Humanos', 3700, 'raul@empresa.com'),\n",
    "('Elena', 'Recursos Humanos', 4100, NULL),\n",
    "('Marta', 'IT', 5700, 'marta@empresa.com');"
   ]
  },
  {
   "cell_type": "markdown",
   "metadata": {},
   "source": [
    "<p>Comprobamos si se han insertado correctamente</p>"
   ]
  },
  {
   "cell_type": "code",
   "execution_count": 13,
   "metadata": {
    "vscode": {
     "languageId": "sql"
    }
   },
   "outputs": [
    {
     "name": "stdout",
     "output_type": "stream",
     "text": [
      " * sqlite:///:memory:\n",
      "Done.\n"
     ]
    },
    {
     "data": {
      "text/html": [
       "<table>\n",
       "    <thead>\n",
       "        <tr>\n",
       "            <th>id</th>\n",
       "            <th>nombre</th>\n",
       "            <th>departamento</th>\n",
       "            <th>salario</th>\n",
       "            <th>correo</th>\n",
       "        </tr>\n",
       "    </thead>\n",
       "    <tbody>\n",
       "        <tr>\n",
       "            <td>1</td>\n",
       "            <td>Ana</td>\n",
       "            <td>Ventas</td>\n",
       "            <td>3500.0</td>\n",
       "            <td>ana@empresa.com</td>\n",
       "        </tr>\n",
       "        <tr>\n",
       "            <td>2</td>\n",
       "            <td>Luis</td>\n",
       "            <td>Ventas</td>\n",
       "            <td>4200.0</td>\n",
       "            <td>luis@empresa.com</td>\n",
       "        </tr>\n",
       "        <tr>\n",
       "            <td>3</td>\n",
       "            <td>María</td>\n",
       "            <td>Marketing</td>\n",
       "            <td>5000.0</td>\n",
       "            <td>maria@empresa.com</td>\n",
       "        </tr>\n",
       "        <tr>\n",
       "            <td>4</td>\n",
       "            <td>Carlos</td>\n",
       "            <td>Marketing</td>\n",
       "            <td>4800.0</td>\n",
       "            <td>carlos@empresa.com</td>\n",
       "        </tr>\n",
       "        <tr>\n",
       "            <td>5</td>\n",
       "            <td>Laura</td>\n",
       "            <td>IT</td>\n",
       "            <td>6000.0</td>\n",
       "            <td>laura@empresa.com</td>\n",
       "        </tr>\n",
       "        <tr>\n",
       "            <td>6</td>\n",
       "            <td>Jorge</td>\n",
       "            <td>IT</td>\n",
       "            <td>6200.0</td>\n",
       "            <td>jorge@empresa.com</td>\n",
       "        </tr>\n",
       "        <tr>\n",
       "            <td>7</td>\n",
       "            <td>Sofía</td>\n",
       "            <td>Ventas</td>\n",
       "            <td>3900.0</td>\n",
       "            <td>None</td>\n",
       "        </tr>\n",
       "        <tr>\n",
       "            <td>8</td>\n",
       "            <td>Raúl</td>\n",
       "            <td>Recursos Humanos</td>\n",
       "            <td>3700.0</td>\n",
       "            <td>raul@empresa.com</td>\n",
       "        </tr>\n",
       "        <tr>\n",
       "            <td>9</td>\n",
       "            <td>Elena</td>\n",
       "            <td>Recursos Humanos</td>\n",
       "            <td>4100.0</td>\n",
       "            <td>None</td>\n",
       "        </tr>\n",
       "        <tr>\n",
       "            <td>10</td>\n",
       "            <td>Marta</td>\n",
       "            <td>IT</td>\n",
       "            <td>5700.0</td>\n",
       "            <td>marta@empresa.com</td>\n",
       "        </tr>\n",
       "    </tbody>\n",
       "</table>"
      ],
      "text/plain": [
       "[(1, 'Ana', 'Ventas', 3500.0, 'ana@empresa.com'),\n",
       " (2, 'Luis', 'Ventas', 4200.0, 'luis@empresa.com'),\n",
       " (3, 'María', 'Marketing', 5000.0, 'maria@empresa.com'),\n",
       " (4, 'Carlos', 'Marketing', 4800.0, 'carlos@empresa.com'),\n",
       " (5, 'Laura', 'IT', 6000.0, 'laura@empresa.com'),\n",
       " (6, 'Jorge', 'IT', 6200.0, 'jorge@empresa.com'),\n",
       " (7, 'Sofía', 'Ventas', 3900.0, None),\n",
       " (8, 'Raúl', 'Recursos Humanos', 3700.0, 'raul@empresa.com'),\n",
       " (9, 'Elena', 'Recursos Humanos', 4100.0, None),\n",
       " (10, 'Marta', 'IT', 5700.0, 'marta@empresa.com')]"
      ]
     },
     "execution_count": 13,
     "metadata": {},
     "output_type": "execute_result"
    }
   ],
   "source": [
    "%sql SELECT * FROM Empleados;"
   ]
  },
  {
   "cell_type": "markdown",
   "metadata": {},
   "source": [
    "\n",
    "\n",
    "<h2>Consultas SQL</h2>\n",
    "<h2>3. Consultas SQL Básicas</h2>\n",
    "\n",
    "<h3>3.1. Sentencia <code>SELECT</code></h3>\n",
    "<p>La sentencia <code>SELECT</code> se utiliza para recuperar datos de una o más tablas. A continuación se presenta la sintaxis básica:</p>\n",
    "\n",
    "<pre><code>SELECT campo1, campo2, ..., campoN\n",
    "FROM nombre_de_la_tabla\n",
    "WHERE condición\n",
    "ORDER BY campo1 [ASC|DESC];</code></pre>\n",
    "\n",
    "<p><b>Explicación de la Sintaxis:</b></p>\n",
    "<ul>\n",
    "    <li><b>campo1, campo2, ..., campoN:</b> Los nombres de las columnas que se desean consultar.</li>\n",
    "    <li><b>nombre_de_la_tabla:</b> El nombre de la tabla de la que se extraerán los datos.</li>\n",
    "    <li><b>condición (opcional):</b> Un criterio que filtra los datos que se van a seleccionar. Si se omite, se seleccionan todos los registros.</li>\n",
    "    <li><b>ORDER BY (opcional):</b> Permite ordenar los resultados en base a una columna. Se puede especificar si se desea en orden ascendente (<code>ASC</code>) o descendente (<code>DESC</code>).</li>\n",
    "</ul>\n",
    "\n",
    "<h3>3.2. Ejemplo de Consulta</h3>\n",
    "<p>A continuación, se muestra un ejemplo que selecciona todos los nombres de la tabla <code>Clientes</code> donde la edad es mayor a 25 años, ordenados por edad en orden descendente:</p>"
   ]
  },
  {
   "cell_type": "code",
   "execution_count": 14,
   "metadata": {
    "vscode": {
     "languageId": "sql"
    }
   },
   "outputs": [
    {
     "name": "stdout",
     "output_type": "stream",
     "text": [
      " * sqlite:///:memory:\n",
      "Done.\n"
     ]
    },
    {
     "data": {
      "text/html": [
       "<table>\n",
       "    <thead>\n",
       "        <tr>\n",
       "            <th>nombre</th>\n",
       "            <th>edad</th>\n",
       "        </tr>\n",
       "    </thead>\n",
       "    <tbody>\n",
       "        <tr>\n",
       "            <td>Carlos</td>\n",
       "            <td>40</td>\n",
       "        </tr>\n",
       "        <tr>\n",
       "            <td>Luis</td>\n",
       "            <td>35</td>\n",
       "        </tr>\n",
       "        <tr>\n",
       "            <td>Miguel</td>\n",
       "            <td>33</td>\n",
       "        </tr>\n",
       "        <tr>\n",
       "            <td>Pedro</td>\n",
       "            <td>31</td>\n",
       "        </tr>\n",
       "        <tr>\n",
       "            <td>Juan</td>\n",
       "            <td>30</td>\n",
       "        </tr>\n",
       "        <tr>\n",
       "            <td>Jhon</td>\n",
       "            <td>29</td>\n",
       "        </tr>\n",
       "        <tr>\n",
       "            <td>Isabel</td>\n",
       "            <td>26</td>\n",
       "        </tr>\n",
       "    </tbody>\n",
       "</table>"
      ],
      "text/plain": [
       "[('Carlos', 40),\n",
       " ('Luis', 35),\n",
       " ('Miguel', 33),\n",
       " ('Pedro', 31),\n",
       " ('Juan', 30),\n",
       " ('Jhon', 29),\n",
       " ('Isabel', 26)]"
      ]
     },
     "execution_count": 14,
     "metadata": {},
     "output_type": "execute_result"
    }
   ],
   "source": [
    "%%sql\n",
    "SELECT nombre, edad\n",
    "FROM Clientes\n",
    "WHERE edad > 25\n",
    "ORDER BY edad DESC;"
   ]
  },
  {
   "cell_type": "markdown",
   "metadata": {},
   "source": [
    "\n",
    "<p><b>Explicación del Ejemplo:</b></p>\n",
    "<ul>\n",
    "    <li><b>nombre, edad:</b> Se seleccionan las columnas <code>nombre</code> y <code>edad</code> de la tabla <code>Clientes</code>.</li>\n",
    "    <li><b>edad > 25:</b> Filtra los registros donde la columna <code>edad</code> sea mayor a 25 años.</li>\n",
    "    <li><b>ORDER BY edad DESC:</b> Ordena los resultados en orden descendente según la columna <code>edad</code>.</li>\n",
    "</ul>"
   ]
  },
  {
   "cell_type": "markdown",
   "metadata": {},
   "source": [
    "En SQL, existen funciones agregadas como <code>AVG, SUM, COUNT, MAX, y MIN</code> que son útiles para realizar cálculos y obtener estadísticas de los datos en una tabla. Aquí te explico cada una de ellas:\n",
    "\n",
    "1. <code>AVG (Average)</code> Calcula el promedio de los valores en una columna numérica. Ejemplo:"
   ]
  },
  {
   "cell_type": "code",
   "execution_count": null,
   "metadata": {
    "vscode": {
     "languageId": "sql"
    }
   },
   "outputs": [],
   "source": [
    "%%sql\n",
    "SELECT AVG(salario) FROM empleados;"
   ]
  },
  {
   "cell_type": "markdown",
   "metadata": {},
   "source": [
    "\n",
    "<p>Este ejemplo calcula el salario promedio de todos los empleados en la tabla empleados.</p>"
   ]
  },
  {
   "cell_type": "markdown",
   "metadata": {},
   "source": [
    "2. <code>SUM</code> Calcula la suma total de los valores en una columna numérica.\n",
    "Ejemplo:"
   ]
  },
  {
   "cell_type": "code",
   "execution_count": null,
   "metadata": {
    "vscode": {
     "languageId": "sql"
    }
   },
   "outputs": [],
   "source": [
    "%%sql\n",
    "SELECT SUM(salario) FROM empleados;"
   ]
  },
  {
   "cell_type": "markdown",
   "metadata": {},
   "source": [
    "<p>Esta sentencia suma todos los salarios en la columna salario de la tabla empleados.</p>"
   ]
  },
  {
   "cell_type": "markdown",
   "metadata": {},
   "source": [
    "3. <code>COUNT</code> Cuenta el número de filas en un conjunto de resultados. Puede contar todas las filas o solo las filas no nulas de una columna específica. Ejemplo:"
   ]
  },
  {
   "cell_type": "code",
   "execution_count": null,
   "metadata": {
    "vscode": {
     "languageId": "sql"
    }
   },
   "outputs": [],
   "source": [
    "%%sql\n",
    "SELECT COUNT(*) FROM empleados;"
   ]
  },
  {
   "cell_type": "markdown",
   "metadata": {},
   "source": [
    "<p>Aquí se cuenta el total de filas en la tabla empleados.</p>\n",
    "<p>Para contar solo valores no nulos en una columna:</p>"
   ]
  },
  {
   "cell_type": "code",
   "execution_count": null,
   "metadata": {
    "vscode": {
     "languageId": "sql"
    }
   },
   "outputs": [],
   "source": [
    "%%sql\n",
    "SELECT COUNT(correo) FROM empleados;"
   ]
  },
  {
   "cell_type": "markdown",
   "metadata": {},
   "source": [
    "4. <code>MAX</code> Devuelve el valor máximo de una columna, ya sea numérica o alfabética.Ejemplo:"
   ]
  },
  {
   "cell_type": "code",
   "execution_count": null,
   "metadata": {
    "vscode": {
     "languageId": "sql"
    }
   },
   "outputs": [],
   "source": [
    "%%sql\n",
    "SELECT MAX(salario) FROM empleados;"
   ]
  },
  {
   "cell_type": "markdown",
   "metadata": {},
   "source": [
    "<p>Este ejemplo devuelve el salario más alto en la tabla empleados.</p>"
   ]
  },
  {
   "cell_type": "markdown",
   "metadata": {},
   "source": [
    "5. <code>MIN</code> Devuelve el valor mínimo de una columna, ya sea numérica o alfabética. Ejemplo:"
   ]
  },
  {
   "cell_type": "code",
   "execution_count": null,
   "metadata": {
    "vscode": {
     "languageId": "sql"
    }
   },
   "outputs": [],
   "source": [
    "%%sql\n",
    "SELECT MIN(salario) FROM empleados;"
   ]
  },
  {
   "cell_type": "markdown",
   "metadata": {},
   "source": [
    "Esto devuelve el salario más bajo en la tabla empleados.\n",
    "\n",
    "Combinando funciones agregadas con <code>GROUP BY</code>. Las funciones agregadas pueden usarse junto con <code>GROUP BY</code> para realizar cálculos en grupos de datos. Ejemplo:"
   ]
  },
  {
   "cell_type": "code",
   "execution_count": null,
   "metadata": {
    "vscode": {
     "languageId": "sql"
    }
   },
   "outputs": [],
   "source": [
    "%%sql\n",
    "SELECT departamento, AVG(salario) FROM empleados GROUP BY departamento;"
   ]
  },
  {
   "cell_type": "markdown",
   "metadata": {},
   "source": [
    "\n",
    "<p>Este ejemplo calcula el salario promedio por cada departamento en la tabla empleados.</p>\n",
    "\n",
    "<p>Resumen:</p>"
   ]
  },
  {
   "cell_type": "markdown",
   "metadata": {},
   "source": [
    "<!DOCTYPE html>\n",
    "<html lang=\"en\">\n",
    "<head>\n",
    "    <meta charset=\"UTF-8\">\n",
    "    <meta name=\"viewport\" content=\"width=device-width, initial-scale=1.0\">\n",
    "    <title>SQL Functions Summary</title>\n",
    "    <style>\n",
    "        /* Estilos generales */\n",
    "        body {\n",
    "            font-family: Arial, sans-serif;\n",
    "            background: #f7f7f7;\n",
    "            display: flex;\n",
    "            justify-content: center;\n",
    "            align-items: center;\n",
    "            height: 100vh;\n",
    "            margin: 0;\n",
    "        }\n",
    "        .container {\n",
    "            display: flex;\n",
    "            gap: 15px;\n",
    "        }\n",
    "        /* Tarjetas de resumen */\n",
    "        .card {\n",
    "            width: 120px;\n",
    "            padding: 20px;\n",
    "            background: #fff;\n",
    "            box-shadow: 0 4px 8px rgba(0, 0, 0, 0.2);\n",
    "            border-radius: 8px;\n",
    "            text-align: center;\n",
    "            transition: transform 0.3s;\n",
    "        }\n",
    "        .card:hover {\n",
    "            transform: translateY(-10px);\n",
    "        }\n",
    "        /* Estilos de los íconos */\n",
    "        .icon {\n",
    "            font-size: 40px;\n",
    "            margin-bottom: 10px;\n",
    "            color: #4A90E2;\n",
    "        }\n",
    "        .description {\n",
    "            font-weight: bold;\n",
    "            color: #333;\n",
    "            margin-top: 8px;\n",
    "            font-size: 14px;\n",
    "        }\n",
    "        /* Animación */\n",
    "        @keyframes bounce {\n",
    "            0%, 100% {\n",
    "                transform: translateY(0);\n",
    "            }\n",
    "            50% {\n",
    "                transform: translateY(-10px);\n",
    "            }\n",
    "        }\n",
    "        .card:hover .icon {\n",
    "            animation: bounce 0.5s;\n",
    "        }\n",
    "    </style>\n",
    "</head>\n",
    "<body>\n",
    "\n",
    "<div class=\"container\">\n",
    "    <div class=\"card\">\n",
    "        <div class=\"icon\">📊</div>\n",
    "        <div class=\"description\">AVG</div>\n",
    "        <p>Calcula el promedio</p>\n",
    "    </div>\n",
    "    <div class=\"card\">\n",
    "        <div class=\"icon\">➕</div>\n",
    "        <div class=\"description\">SUM</div>\n",
    "        <p>Suma todos los valores</p>\n",
    "    </div>\n",
    "    <div class=\"card\">\n",
    "        <div class=\"icon\">🔢</div>\n",
    "        <div class=\"description\">COUNT</div>\n",
    "        <p>Cuenta las filas</p>\n",
    "    </div>\n",
    "    <div class=\"card\">\n",
    "        <div class=\"icon\">⬆️</div>\n",
    "        <div class=\"description\">MAX</div>\n",
    "        <p>Encuentra el valor máximo</p>\n",
    "    </div>\n",
    "    <div class=\"card\">\n",
    "        <div class=\"icon\">⬇️</div>\n",
    "        <div class=\"description\">MIN</div>\n",
    "        <p>Encuentra el valor mínimo</p>\n",
    "    </div>\n",
    "</div>\n",
    "\n",
    "</body>\n",
    "</html>"
   ]
  },
  {
   "cell_type": "markdown",
   "metadata": {},
   "source": [
    "<p>Estas funciones son muy útiles para obtener estadísticas y análisis de datos en SQL.</P>"
   ]
  },
  {
   "cell_type": "markdown",
   "metadata": {},
   "source": [
    "<h3>Uso de Alias en la Sentencia <code>SELECT</code></h3>\n",
    "<p>Un <strong>alias</strong> en la sentencia <code>SELECT</code> permite renombrar temporalmente una columna o tabla en una consulta SQL, lo cual hace los resultados más legibles o simplifica referencias complejas.</p>\n",
    "\n",
    "<h4>Alias para Columnas</h4>\n",
    "<p>Para asignar un alias a una columna, se usa la palabra clave <code>AS</code> (aunque algunos sistemas lo permiten sin <code>AS</code>). Este alias aparecerá como encabezado de columna en los resultados.</p>"
   ]
  },
  {
   "cell_type": "code",
   "execution_count": null,
   "metadata": {
    "vscode": {
     "languageId": "sql"
    }
   },
   "outputs": [],
   "source": [
    "%%sql\n",
    "SELECT nombre AS NombreCliente, salario AS SalarioAnual\n",
    "FROM empleados;"
   ]
  },
  {
   "cell_type": "markdown",
   "metadata": {},
   "source": [
    "<p>Sin <code>AS</code></p>"
   ]
  },
  {
   "cell_type": "code",
   "execution_count": null,
   "metadata": {
    "vscode": {
     "languageId": "sql"
    }
   },
   "outputs": [],
   "source": [
    "%%sql\n",
    "SELECT nombre NombreCliente, salario SalarioAnual\n",
    "FROM empleados;"
   ]
  },
  {
   "cell_type": "markdown",
   "metadata": {},
   "source": [
    "\n",
    "<p>En estos ejemplos:</p>\n",
    "<ul>\n",
    "    <li><code>nombre</code> se renombra como <strong>NombreCliente</strong>.</li>\n",
    "    <li><code>salario</code> se renombra como <strong>SalarioAnual</strong>.</li>\n",
    "</ul>\n"
   ]
  },
  {
   "cell_type": "markdown",
   "metadata": {},
   "source": [
    "\n",
    "<h4>Alias para Tablas</h4>\n",
    "<p>Los alias de tabla se utilizan para abreviar nombres de tablas, especialmente cuando se hace referencia a varias tablas en consultas complejas, como las uniones (<code>JOIN</code>), que veremos más adelante. Se colocan después del nombre de la tabla y se usan en el resto de la consulta para referirse a esa tabla.</p>"
   ]
  },
  {
   "cell_type": "code",
   "execution_count": null,
   "metadata": {
    "vscode": {
     "languageId": "sql"
    }
   },
   "outputs": [],
   "source": [
    "%%sql\n",
    "SELECT c.nombre AS Cliente, p.fecha AS FechaPedido\n",
    "FROM Clientes AS c\n",
    "JOIN Pedidos AS p ON c.cliente_id = p.cliente_id;"
   ]
  },
  {
   "cell_type": "markdown",
   "metadata": {},
   "source": [
    "<p>Sin <code>AS</code></p>"
   ]
  },
  {
   "cell_type": "code",
   "execution_count": null,
   "metadata": {
    "vscode": {
     "languageId": "sql"
    }
   },
   "outputs": [],
   "source": [
    "%%sql\n",
    "SELECT c.nombre Cliente, p.fecha FechaPedido\n",
    "FROM Clientes c\n",
    "JOIN Pedidos p ON c.cliente_id = p.cliente_id;"
   ]
  },
  {
   "cell_type": "markdown",
   "metadata": {},
   "source": [
    "\n",
    "<p>En este ejemplo:</p>\n",
    "<ul>\n",
    "    <li><code>Clientes</code> se renombra como <strong>c</strong>.</li>\n",
    "    <li><code>Pedidos</code> se renombra como <strong>p</strong>.</li>\n",
    "</ul>\n",
    "\n",
    "<p>Estos alias hacen que el código sea más conciso y fácil de leer.</p>\n"
   ]
  },
  {
   "cell_type": "markdown",
   "metadata": {},
   "source": [
    "<h3>Cláusula <code>WHERE</code> en SQL</h3>\n",
    "    <p>La cláusula <code>WHERE</code> en una consulta <code>SELECT</code> filtra los resultados según una o más condiciones. Solo se mostrarán las filas que cumplan con estas condiciones.</p>\n",
    "    \n",
    "   <h4>1. Igualdad <code>=</code></h4>\n",
    "    <p>Filtra filas donde el valor de la columna es igual a un valor específico.</p>\n",
    "    <p class=\"example\">Ejemplo:</p>\n"
   ]
  },
  {
   "cell_type": "code",
   "execution_count": null,
   "metadata": {
    "vscode": {
     "languageId": "sql"
    }
   },
   "outputs": [],
   "source": [
    "%%sql\n",
    "SELECT * FROM Clientes WHERE pais = 'España';"
   ]
  },
  {
   "cell_type": "markdown",
   "metadata": {},
   "source": [
    "\n",
    "   <h4>2. Desigualdad, distindo de <code>!=</code> o <code>&lt;&gt;</code></h4>\n",
    "    <p>Selecciona filas donde el valor de la columna es distinto de un valor específico.</p>\n",
    "    <p>Ejemplo: </p>"
   ]
  },
  {
   "cell_type": "code",
   "execution_count": null,
   "metadata": {
    "vscode": {
     "languageId": "sql"
    }
   },
   "outputs": [],
   "source": [
    "%%sql\n",
    "SELECT * FROM Empleados WHERE salario != 5000;"
   ]
  },
  {
   "cell_type": "markdown",
   "metadata": {},
   "source": [
    "\n",
    "   <h4>3. Comparaciones <code>&gt;</code>, <code>&gt;=</code>, <code>&lt;</code> y <code>&lt;=</code></h4>\n",
    "    <p>Filtra filas basándose en un valor numérico o de fecha que sea mayor o menor al valor indicado.</p>\n",
    "    <p>Ejemplo: </p>\n",
    "    <h5> Mayor que 3</h5>"
   ]
  },
  {
   "cell_type": "code",
   "execution_count": null,
   "metadata": {
    "vscode": {
     "languageId": "sql"
    }
   },
   "outputs": [],
   "source": [
    "%%sql\n",
    "SELECT * FROM Pedidos WHERE cantidad>3;"
   ]
  },
  {
   "cell_type": "markdown",
   "metadata": {},
   "source": [
    "<h5> Menor e igual que 3</h5>"
   ]
  },
  {
   "cell_type": "code",
   "execution_count": null,
   "metadata": {
    "vscode": {
     "languageId": "sql"
    }
   },
   "outputs": [],
   "source": [
    "%%sql\n",
    "SELECT * FROM Pedidos WHERE cantidad<=3;"
   ]
  },
  {
   "cell_type": "markdown",
   "metadata": {},
   "source": [
    " <h5> Menor que la fecha 16-10-2024</h5>"
   ]
  },
  {
   "cell_type": "code",
   "execution_count": null,
   "metadata": {
    "vscode": {
     "languageId": "sql"
    }
   },
   "outputs": [],
   "source": [
    "%%sql\n",
    "SELECT * FROM Pedidos WHERE fecha<\"16-10-2024\";"
   ]
  },
  {
   "cell_type": "markdown",
   "metadata": {},
   "source": [
    "\n",
    "   <h4>4. Entre Rango <code>BETWEEN</code></h4>\n",
    "    <p>Selecciona filas donde el valor de una columna está entre dos valores, incluidos ambos límites.</p>\n",
    "    <p>Ejemplo: </p>"
   ]
  },
  {
   "cell_type": "code",
   "execution_count": null,
   "metadata": {
    "vscode": {
     "languageId": "sql"
    }
   },
   "outputs": [],
   "source": [
    "%%sql\n",
    "SELECT * FROM Empleados WHERE salario BETWEEN 3000 AND 5000;"
   ]
  },
  {
   "cell_type": "markdown",
   "metadata": {},
   "source": [
    "   <h4>5. En Lista <code>IN</code></h4>\n",
    "    <p>Filtra filas cuyo valor coincide con cualquiera en una lista dada.</p>\n",
    "    <p>Ejemplo: </p>"
   ]
  },
  {
   "cell_type": "code",
   "execution_count": null,
   "metadata": {
    "vscode": {
     "languageId": "sql"
    }
   },
   "outputs": [],
   "source": [
    "%%sql\n",
    "SELECT * FROM Empleados WHERE departamento IN ('Ventas', 'Marketing');"
   ]
  },
  {
   "cell_type": "markdown",
   "metadata": {},
   "source": [
    "\n",
    "   <h4>6. Valor Nulo <code>IS NULL</code></h4>\n",
    "    <p>Selecciona filas donde el valor de la columna es nulo.</p>\n",
    "    <p>Ejemplo: </p>"
   ]
  },
  {
   "cell_type": "code",
   "execution_count": null,
   "metadata": {
    "vscode": {
     "languageId": "sql"
    }
   },
   "outputs": [],
   "source": [
    "%%sql\n",
    "SELECT * FROM pedidos WHERE cliente_id IS NULL;"
   ]
  },
  {
   "cell_type": "markdown",
   "metadata": {},
   "source": [
    "<div style=\"text-align: center;\">\n",
    "    <img src=\"imagenes/like-sql-datascientest.png\" alt=\"Patrón de Búsqueda LIKE\" style=\"width: 50%;\" />\n",
    "</div>   \n",
    "   <h4>7. Patrón de Búsqueda <code>LIKE</code></h4>\n",
    "\n",
    "   <p>La cláusula <code>LIKE</code> se utiliza en SQL para buscar valores en una columna que coincidan con un patrón específico. Puedes emplear comodines para definir estos patrones:</p>\n",
    "    <h4>1. Comodín <code>%</code></h4>\n",
    "    <p>El símbolo <code>%</code> representa cualquier secuencia de caracteres (incluyendo ninguna). Puedes usarlo en diferentes posiciones en el patrón.</p>\n",
    "    <p>Ejemplo: </p>\n",
    "    <p>Esta sentencia buscará todos los nombres que empiezan con \"A\".</p>"
   ]
  },
  {
   "cell_type": "code",
   "execution_count": null,
   "metadata": {
    "vscode": {
     "languageId": "sql"
    }
   },
   "outputs": [],
   "source": [
    "%%sql\n",
    "SELECT * FROM clientes WHERE nombre LIKE 'A%';"
   ]
  },
  {
   "cell_type": "markdown",
   "metadata": {},
   "source": [
    "   <h4>2. Comodín <code>_</code></h4>\n",
    "    <p>El guión bajo <code>_</code> representa <b style=\"color:blue;\">un único carácter</b> en cualquier posición del patrón.</p>\n",
    "    <p>Ejemplo:</p> \n",
    "    <p>Esta sentencia buscará todos los registros que empiecen por \"R\", seguido de cualquier carácter, seguido de \"t\", seguido de dos caracteres más.</p>"
   ]
  },
  {
   "cell_type": "code",
   "execution_count": null,
   "metadata": {
    "vscode": {
     "languageId": "sql"
    }
   },
   "outputs": [],
   "source": [
    "%%sql\n",
    "SELECT * FROM Pedidos WHERE producto LIKE 'R_t__';"
   ]
  },
  {
   "cell_type": "markdown",
   "metadata": {},
   "source": [
    "   <h4>3. Uso Combinado de <code>%</code> y <code>_</code></h4>\n",
    "    <p>Se pueden combinar ambos comodines para patrones más específicos.</p>\n",
    "    <p>Ejemplo:</p> \n",
    "    <p>Esta sentencia buscará todos los registros que teempiecen por \"T\", seguido de cualquier carácter, seguido de \"c\", seguido de cualquier carácter más.</p>\n"
   ]
  },
  {
   "cell_type": "code",
   "execution_count": null,
   "metadata": {
    "vscode": {
     "languageId": "sql"
    }
   },
   "outputs": [],
   "source": [
    "%%sql\n",
    "SELECT * FROM Pedidos WHERE producto LIKE 'T_c%';"
   ]
  },
  {
   "cell_type": "markdown",
   "metadata": {},
   "source": [
    "   <h4>4. Caracteres entre Rango <code>[ ]</code></h4>\n",
    "    <p>Los corchetes <code>[ ]</code> se usan para especificar un rango o conjunto de caracteres válidos en esa posición.\n",
    "    <br>\n",
    "    <b style=\"color:red;\">(No siempre está disponible en todos los sistemas SQL)</b>.</p>\n",
    "    <p>\n",
    "        <p>Ejemplo:</p> \n",
    "        Esta sentencia buscará nombres que empiezan con una vocal.</p>"
   ]
  },
  {
   "cell_type": "code",
   "execution_count": null,
   "metadata": {
    "vscode": {
     "languageId": "sql"
    }
   },
   "outputs": [],
   "source": [
    "%%sql\n",
    "SELECT * FROM Empleados WHERE nombre LIKE '[AEIOU]%';"
   ]
  },
  {
   "cell_type": "markdown",
   "metadata": {},
   "source": [
    "<p>En SQLite, los patrones de coincidencia con corchetes <code>[ ]</code> para rangos o conjuntos de caracteres (como [AEIOU]) no son compatibles. Una opción para esta sentencia sería:</p>"
   ]
  },
  {
   "cell_type": "code",
   "execution_count": null,
   "metadata": {
    "vscode": {
     "languageId": "sql"
    }
   },
   "outputs": [],
   "source": [
    "%%sql\n",
    "SELECT * FROM Empleados WHERE \n",
    "    nombre LIKE 'A%' OR \n",
    "    nombre LIKE 'E%' OR \n",
    "    nombre LIKE 'I%' OR \n",
    "    nombre LIKE 'O%' OR \n",
    "    nombre LIKE 'U%';\n"
   ]
  },
  {
   "cell_type": "markdown",
   "metadata": {},
   "source": [
    "   <h4>5. Exclusión de Caracteres con <code>[^]</code> o <code>[!]</code></h4>\n",
    "    <p>Los símbolos <code>[^]</code> o <code>[!]</code> permiten excluir caracteres en la posición especificada.</p>\n",
    "    <p>\n",
    "        <p>Ejemplo:</p>\n",
    "        <p>Esta sentencia seleccionará nombres que no empiecen con un número.</p>"
   ]
  },
  {
   "cell_type": "code",
   "execution_count": null,
   "metadata": {
    "vscode": {
     "languageId": "sql"
    }
   },
   "outputs": [],
   "source": [
    "%%sql\n",
    "SELECT * FROM Empleados WHERE nombre LIKE '[!0-9]*';"
   ]
  },
  {
   "cell_type": "markdown",
   "metadata": {},
   "source": [
    "<p><b style=\"color:red;\">SQLite no soporta el uso de esta expresión.</b></p>"
   ]
  },
  {
   "cell_type": "markdown",
   "metadata": {},
   "source": [
    "<h4>6. Patrón de búsqueda <code>NOT LIKE</code></h4>\n",
    "\n",
    "<P>Hasta ahora te he mostrado resultados con una búsqueda positiva o, lo que es lo mismo, los resultados que coinciden con el patrón.\n",
    "\n",
    "¿Pero y si quieres justo lo contrario?\n",
    "\n",
    "Para esto usarás el operador NOT que, como siempre, se vuelve TRUE cuando el resultado es el contrario de la condición que le sigue.</P>\n",
    "\n",
    "<P>Ejemplo </P>\n",
    "<P>Empleados con un nombre con una longuitud distinta de 4 letras y de 5 letras:</P>"
   ]
  },
  {
   "cell_type": "code",
   "execution_count": 80,
   "metadata": {
    "vscode": {
     "languageId": "sql"
    }
   },
   "outputs": [
    {
     "name": "stdout",
     "output_type": "stream",
     "text": [
      " * sqlite:///:memory:\n",
      "Done.\n"
     ]
    },
    {
     "data": {
      "text/html": [
       "<table>\n",
       "    <thead>\n",
       "        <tr>\n",
       "            <th>id</th>\n",
       "            <th>nombre</th>\n",
       "            <th>departamento</th>\n",
       "            <th>salario</th>\n",
       "            <th>correo</th>\n",
       "        </tr>\n",
       "    </thead>\n",
       "    <tbody>\n",
       "        <tr>\n",
       "            <td>1</td>\n",
       "            <td>Ana</td>\n",
       "            <td>Ventas</td>\n",
       "            <td>3500.0</td>\n",
       "            <td>ana@empresa.com</td>\n",
       "        </tr>\n",
       "        <tr>\n",
       "            <td>4</td>\n",
       "            <td>Carlos</td>\n",
       "            <td>Marketing</td>\n",
       "            <td>4800.0</td>\n",
       "            <td>carlos@empresa.com</td>\n",
       "        </tr>\n",
       "    </tbody>\n",
       "</table>"
      ],
      "text/plain": [
       "[(1, 'Ana', 'Ventas', 3500.0, 'ana@empresa.com'),\n",
       " (4, 'Carlos', 'Marketing', 4800.0, 'carlos@empresa.com')]"
      ]
     },
     "execution_count": 80,
     "metadata": {},
     "output_type": "execute_result"
    }
   ],
   "source": [
    "%%sql\n",
    "SELECT * FROM Empleados WHERE nombre NOT LIKE '____' AND nombre NOT LIKE '_____';"
   ]
  }
 ],
 "metadata": {
  "kernelspec": {
   "display_name": "Python 3",
   "language": "python",
   "name": "python3"
  },
  "language_info": {
   "codemirror_mode": {
    "name": "ipython",
    "version": 3
   },
   "file_extension": ".py",
   "mimetype": "text/x-python",
   "name": "python",
   "nbconvert_exporter": "python",
   "pygments_lexer": "ipython3",
   "version": "3.12.0"
  }
 },
 "nbformat": 4,
 "nbformat_minor": 2
}
