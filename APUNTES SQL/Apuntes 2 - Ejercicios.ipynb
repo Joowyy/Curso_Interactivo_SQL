{
 "cells": [
  {
   "cell_type": "markdown",
   "metadata": {},
   "source": [
    "<h1>Ejercicios</h1>\n",
    "\n",
    "<h2>Sentencias <code>SELECT</code></h2>"
   ]
  },
  {
   "cell_type": "markdown",
   "metadata": {},
   "source": [
    "<h3>Creamos las Tablas</h3>\n",
    "<p>A continuación, vamos a crear las tablas que nos servirán para realizar los ejercicios.</p>\n",
    "<p>Realizamos la conexión a nuestra base de datos SQLITE, que se encuentra en memoria, y generamos las tablas e insertamos los datos.</p>"
   ]
  },
  {
   "cell_type": "code",
   "execution_count": null,
   "metadata": {},
   "outputs": [],
   "source": [
    "%load_ext sql\n",
    "\n",
    "# Conectarse a una base de datos SQLite en memoria\n",
    "%sql sqlite:///:memory:"
   ]
  },
  {
   "cell_type": "markdown",
   "metadata": {},
   "source": [
    "<h5>1. Creamos una Tabla llamada <code>CLIENTES</code></h5>"
   ]
  },
  {
   "cell_type": "code",
   "execution_count": null,
   "metadata": {
    "vscode": {
     "languageId": "sql"
    }
   },
   "outputs": [],
   "source": [
    "%%sql\n",
    "CREATE TABLE Clientes (\n",
    "    cliente_id INTEGER PRIMARY KEY,\n",
    "    nombre VARCHAR(50),\n",
    "    apellido VARCHAR(50),\n",
    "    pais VARCHAR(50),\n",
    "    edad INTEGER\n",
    ");"
   ]
  },
  {
   "cell_type": "code",
   "execution_count": null,
   "metadata": {
    "vscode": {
     "languageId": "sql"
    }
   },
   "outputs": [],
   "source": [
    "%%sql\n",
    "CREATE TABLE Pedidos (\n",
    "    pedido_id INT PRIMARY KEY,\n",
    "    fecha DATE,\n",
    "    producto VARCHAR(50),\n",
    "    cantidad INT,\n",
    "    cliente_id INT,\n",
    "    pendiente BOOLEAN,\n",
    "    FOREIGN KEY (cliente_id) REFERENCES Clientes(cliente_id)\n",
    ");"
   ]
  },
  {
   "cell_type": "markdown",
   "metadata": {},
   "source": [
    "<h5>3. Creamos la Tabla <code>Empleados</code></h5>"
   ]
  },
  {
   "cell_type": "code",
   "execution_count": null,
   "metadata": {
    "vscode": {
     "languageId": "sql"
    }
   },
   "outputs": [],
   "source": [
    "%%sql\n",
    "CREATE TABLE Empleados (\n",
    "    id INTEGER PRIMARY KEY AUTOINCREMENT,\n",
    "    nombre TEXT NOT NULL,\n",
    "    departamento TEXT NOT NULL,\n",
    "    salario REAL NOT NULL,\n",
    "    correo TEXT\n",
    ");"
   ]
  },
  {
   "cell_type": "markdown",
   "metadata": {},
   "source": [
    "<h3>Insertamos datos en la tabla <b>Clientes</b>:</h3>"
   ]
  },
  {
   "cell_type": "code",
   "execution_count": null,
   "metadata": {
    "vscode": {
     "languageId": "sql"
    }
   },
   "outputs": [],
   "source": [
    "%%sql\n",
    "INSERT INTO Clientes (cliente_id, nombre, apellido, pais, edad) VALUES\n",
    "(1, 'Juan', 'Pérez', 'España', 30),\n",
    "(2, 'Ana', 'García', 'México', 25),\n",
    "(3, 'Luis', 'Martínez', 'Argentina', 35),\n",
    "(4, NULL, NULL,NULL, NULL),\n",
    "(5, 'Carlos', 'González', 'Colombia', 40),\n",
    "(6, 'Laura', 'Fernández', 'Chile', 22),\n",
    "(7, 'Pedro', 'Sánchez', 'España', 31),\n",
    "(8, 'Jhon', 'Doe', 'Reino Unido', 29),\n",
    "(9, 'Isabel', 'Núñez', 'México', 26),\n",
    "(10, 'Miguel', 'Romero', 'Perú', 33);"
   ]
  },
  {
   "cell_type": "markdown",
   "metadata": {},
   "source": [
    "\n",
    "<h3>Insertamos datos en la tabla <b>Pedidos</b>:</h3>\n"
   ]
  },
  {
   "cell_type": "code",
   "execution_count": null,
   "metadata": {
    "vscode": {
     "languageId": "sql"
    }
   },
   "outputs": [],
   "source": [
    "%%sql\n",
    "INSERT INTO Pedidos (pedido_id, fecha, producto, cantidad, cliente_id, pendiente) VALUES\n",
    "(1, '10-10-2024', 'Teclado', 5, 1, FALSE),\n",
    "(2, '11-10-2024', 'Ratón', 3, 2, TRUE),\n",
    "(3, '12-10-2024', 'Teclado', 4, 3, FALSE),\n",
    "(4, '13-10-2024', 'Ratón', 2, NULL, TRUE),\n",
    "(5, '14-10-2024', 'Monitor', 1, 5, FALSE),\n",
    "(6, '15-10-2024', 'Teclado', 2, 6, TRUE),\n",
    "(7, '16-10-2024', 'Ratón', 4, 7, FALSE),\n",
    "(8, '17-10-2024', 'Teclado', 3, 8, TRUE),\n",
    "(9, '18-10-2024', 'Monitor', 2, 9, FALSE),\n",
    "(10, '19-10-2024', 'Ratón', 5, 10, TRUE);\n"
   ]
  },
  {
   "cell_type": "markdown",
   "metadata": {},
   "source": [
    "\n",
    "<h3>Insertamos datos en la tabla <b>Empleados</b>:</h3>\n"
   ]
  },
  {
   "cell_type": "code",
   "execution_count": null,
   "metadata": {
    "vscode": {
     "languageId": "sql"
    }
   },
   "outputs": [],
   "source": [
    "%%sql\n",
    "INSERT INTO Empleados (nombre, departamento, salario, correo) VALUES \n",
    "('Ana', 'Ventas', 3500, 'ana@empresa.com'),\n",
    "('Luis', 'Ventas', 4200, 'luis@empresa.com'),\n",
    "('María', 'Marketing', 5000, 'maria@empresa.com'),\n",
    "('Carlos', 'Marketing', 4800, 'carlos@empresa.com'),\n",
    "('Laura', 'IT', 6000, 'laura@empresa.com'),\n",
    "('Jorge', 'IT', 6200, 'jorge@empresa.com'),\n",
    "('Sofía', 'Ventas', 3900, NULL),\n",
    "('Raúl', 'Recursos Humanos', 3700, 'raul@empresa.com'),\n",
    "('Elena', 'Recursos Humanos', 4100, NULL),\n",
    "('Marta', 'IT', 5700, 'marta@empresa.com');"
   ]
  },
  {
   "cell_type": "markdown",
   "metadata": {},
   "source": [
    "<h2>Ejercicios</h2>"
   ]
  },
  {
   "cell_type": "markdown",
   "metadata": {},
   "source": [
    "\n",
    "<p>1.- ¿Cuál es el salario promedio de los empleados por departamento?</p>"
   ]
  },
  {
   "cell_type": "code",
   "execution_count": null,
   "metadata": {
    "vscode": {
     "languageId": "sql"
    }
   },
   "outputs": [],
   "source": [
    "%%sql"
   ]
  },
  {
   "cell_type": "markdown",
   "metadata": {},
   "source": [
    "<p>2.- ¿Cuál es el salario total de todos los empleados en la empresa?</p>"
   ]
  },
  {
   "cell_type": "code",
   "execution_count": null,
   "metadata": {
    "vscode": {
     "languageId": "sql"
    }
   },
   "outputs": [],
   "source": [
    "%%sql"
   ]
  },
  {
   "cell_type": "markdown",
   "metadata": {},
   "source": [
    "<p>3.- ¿Cuántos empleados hay en cada departamento?</p>\n"
   ]
  },
  {
   "cell_type": "code",
   "execution_count": null,
   "metadata": {
    "vscode": {
     "languageId": "sql"
    }
   },
   "outputs": [],
   "source": [
    "%%sql"
   ]
  },
  {
   "cell_type": "markdown",
   "metadata": {},
   "source": [
    "<p>4.- ¿Cuál es el salario máximo y mínimo en el departamento de IT?</p>\n"
   ]
  },
  {
   "cell_type": "code",
   "execution_count": null,
   "metadata": {
    "vscode": {
     "languageId": "sql"
    }
   },
   "outputs": [],
   "source": [
    "%%sql"
   ]
  },
  {
   "cell_type": "markdown",
   "metadata": {},
   "source": [
    "<p>5.- ¿Qué empleados tienen un salario mayor o igual a 4000?</p>\n"
   ]
  },
  {
   "cell_type": "code",
   "execution_count": null,
   "metadata": {
    "vscode": {
     "languageId": "sql"
    }
   },
   "outputs": [],
   "source": [
    "%%sql"
   ]
  },
  {
   "cell_type": "markdown",
   "metadata": {},
   "source": [
    "<p>6.- ¿Cuántos empleados no tienen correo electrónico registrado?</p>\n"
   ]
  },
  {
   "cell_type": "code",
   "execution_count": null,
   "metadata": {
    "vscode": {
     "languageId": "sql"
    }
   },
   "outputs": [],
   "source": [
    "%%sql"
   ]
  },
  {
   "cell_type": "markdown",
   "metadata": {},
   "source": [
    "<p>7.- ¿Cuántos pedidos están pendientes?</p>"
   ]
  },
  {
   "cell_type": "code",
   "execution_count": null,
   "metadata": {
    "vscode": {
     "languageId": "sql"
    }
   },
   "outputs": [],
   "source": [
    "%%sql"
   ]
  },
  {
   "cell_type": "markdown",
   "metadata": {},
   "source": [
    "<p>8.- ¿Cuál es el salario total en los departamentos de Ventas y Marketing?</p>\n"
   ]
  },
  {
   "cell_type": "code",
   "execution_count": null,
   "metadata": {
    "vscode": {
     "languageId": "sql"
    }
   },
   "outputs": [],
   "source": [
    "%%sql"
   ]
  },
  {
   "cell_type": "markdown",
   "metadata": {},
   "source": [
    "<p>9.- ¿Cuántos clientes están en cada país?</p>"
   ]
  },
  {
   "cell_type": "code",
   "execution_count": null,
   "metadata": {
    "vscode": {
     "languageId": "sql"
    }
   },
   "outputs": [],
   "source": [
    "%%sql"
   ]
  },
  {
   "cell_type": "markdown",
   "metadata": {},
   "source": [
    "<p>10.- ¿Qué pedidos tienen una cantidad de productos entre 2 y 5?</p>\n"
   ]
  },
  {
   "cell_type": "code",
   "execution_count": null,
   "metadata": {
    "vscode": {
     "languageId": "sql"
    }
   },
   "outputs": [],
   "source": [
    "%%sql"
   ]
  },
  {
   "cell_type": "markdown",
   "metadata": {},
   "source": [
    "<p>11.- ¿Cuántos empleados tienen un salario entre 3500 y 4500?</p>"
   ]
  },
  {
   "cell_type": "code",
   "execution_count": null,
   "metadata": {
    "vscode": {
     "languageId": "sql"
    }
   },
   "outputs": [],
   "source": [
    "%%sql\n",
    "\n"
   ]
  },
  {
   "cell_type": "markdown",
   "metadata": {},
   "source": [
    "<p>12.- ¿Cuántos pedidos han sido realizados por clientes con ID entre 3 y 7?</p>"
   ]
  },
  {
   "cell_type": "code",
   "execution_count": null,
   "metadata": {
    "vscode": {
     "languageId": "sql"
    }
   },
   "outputs": [],
   "source": [
    "%%sql\n"
   ]
  },
  {
   "cell_type": "markdown",
   "metadata": {},
   "source": [
    "<p>13.- ¿Cuántos empleados tienen un salario que no sea 3500 ni 6000?</p>\n"
   ]
  },
  {
   "cell_type": "code",
   "execution_count": null,
   "metadata": {
    "vscode": {
     "languageId": "sql"
    }
   },
   "outputs": [],
   "source": [
    "%%sql\n"
   ]
  },
  {
   "cell_type": "markdown",
   "metadata": {},
   "source": [
    "<p>14.- ¿Qué clientes tienen una edad entre 25 y 35 años?</p>"
   ]
  },
  {
   "cell_type": "code",
   "execution_count": null,
   "metadata": {
    "vscode": {
     "languageId": "sql"
    }
   },
   "outputs": [],
   "source": [
    "%%sql\n"
   ]
  },
  {
   "cell_type": "markdown",
   "metadata": {},
   "source": [
    "<p>15.- ¿Qué empleados tienen un salario mayor al promedio de su departamento?</p>"
   ]
  },
  {
   "cell_type": "code",
   "execution_count": null,
   "metadata": {
    "vscode": {
     "languageId": "sql"
    }
   },
   "outputs": [],
   "source": [
    "%%sql\n",
    "\n"
   ]
  },
  {
   "cell_type": "markdown",
   "metadata": {},
   "source": [
    "<p>16.- ¿Qué clientes no tienen ningún valor en la columna de apellido?</p>"
   ]
  },
  {
   "cell_type": "code",
   "execution_count": null,
   "metadata": {
    "vscode": {
     "languageId": "sql"
    }
   },
   "outputs": [],
   "source": [
    "%%sql\n"
   ]
  },
  {
   "cell_type": "markdown",
   "metadata": {},
   "source": [
    "<p>17.- ¿Qué pedidos fueron realizados en fechas posteriores al 15-10-2024?</p>"
   ]
  },
  {
   "cell_type": "code",
   "execution_count": null,
   "metadata": {
    "vscode": {
     "languageId": "sql"
    }
   },
   "outputs": [],
   "source": [
    "%%sql\n"
   ]
  },
  {
   "cell_type": "markdown",
   "metadata": {},
   "source": [
    "<p>18.- ¿Qué empleados tienen un correo electrónico que contenga \"empresa.com\"?</p>\n"
   ]
  },
  {
   "cell_type": "code",
   "execution_count": null,
   "metadata": {
    "vscode": {
     "languageId": "sql"
    }
   },
   "outputs": [],
   "source": [
    "%%sql\n"
   ]
  },
  {
   "cell_type": "markdown",
   "metadata": {},
   "source": [
    "<p>19.- ¿Qué clientes no tienen una edad registrada?</p>"
   ]
  },
  {
   "cell_type": "code",
   "execution_count": null,
   "metadata": {
    "vscode": {
     "languageId": "sql"
    }
   },
   "outputs": [],
   "source": [
    "%%sql\n"
   ]
  },
  {
   "cell_type": "markdown",
   "metadata": {},
   "source": [
    "<p>20.- ¿Cuántos pedidos hay para cada producto en la tabla Pedidos?</p>"
   ]
  },
  {
   "cell_type": "code",
   "execution_count": null,
   "metadata": {
    "vscode": {
     "languageId": "sql"
    }
   },
   "outputs": [],
   "source": [
    "%%sql\n"
   ]
  }
 ],
 "metadata": {
  "kernelspec": {
   "display_name": "Python 3",
   "language": "python",
   "name": "python3"
  },
  "language_info": {
   "codemirror_mode": {
    "name": "ipython",
    "version": 3
   },
   "file_extension": ".py",
   "mimetype": "text/x-python",
   "name": "python",
   "nbconvert_exporter": "python",
   "pygments_lexer": "ipython3",
   "version": "3.12.0"
  }
 },
 "nbformat": 4,
 "nbformat_minor": 2
}
