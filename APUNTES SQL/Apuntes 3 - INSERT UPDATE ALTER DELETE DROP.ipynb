{
 "cells": [
  {
   "cell_type": "markdown",
   "metadata": {},
   "source": [
    "<h1>Base de Datos 3</h1>\n",
    "\n",
    "<h2>Sentencias <code>INSERT INTO</code> , <code>UPDATE</code>, <code>DELETE</code>, <code>ALTER</code> y <code>DROP</code> </h2>"
   ]
  },
  {
   "cell_type": "markdown",
   "metadata": {},
   "source": [
    "<h2>Uso de <code>INSERT INTO</code> en SQL y Creación de Tablas</h2>\n",
    "\n",
    "<p>En SQL, la instrucción <code>INSERT INTO</code> se utiliza para agregar registros a una tabla existente, como ya hemos visto. Sin embargo, antes de realizar una operación de inserción, es importante haber creado la tabla con las restricciones necesarias que definirán la estructura y reglas de los datos permitidos en la tabla.</p>\n",
    "\n",
    "<h3 style=\"color: #3498db;\">Restricciones Comunes en la Creación de Tablas</h3>\n",
    "\n",
    "<p>Las restricciones (o <em>constraints</em>) ayudan a asegurar la integridad de los datos y a prevenir errores comunes en las bases de datos. Estas restricciones se configuran al crear o modificar una tabla, y afectan las operaciones <code>INSERT</code>. A continuación, se describen algunas de las más comunes:</p>\n",
    "\n",
    "<ul>\n",
    "    <li><strong>PRIMARY KEY</strong>: Asegura que cada registro en una columna (o conjunto de columnas) sea único y no nulo. Sirve para identificar registros de forma exclusiva.</li>\n",
    "    <li><strong>FOREIGN KEY</strong>: Establece una relación entre tablas, asegurando que el valor de la columna de referencia exista en otra tabla.</li>\n",
    "    <li><strong>UNIQUE</strong>: Garantiza que todos los valores en una columna específica sean únicos.</li>\n",
    "    <li><strong>NOT NULL</strong>: Impide que se inserten valores nulos en una columna.</li>\n",
    "    <li><strong>CHECK</strong>: Define una condición que los datos deben cumplir al insertarse.</li>\n",
    "    <li><strong>DEFAULT</strong>: Establece un valor predeterminado para una columna si no se proporciona uno en la instrucción <code>INSERT</code>.</li>\n",
    "</ul>\n",
    "\n",
    "<p>Por ejemplo, al crear una tabla <code>clientes</code>, podríamos establecer restricciones como <code>PRIMARY KEY</code> y <code>UNIQUE</code> para asegurar la integridad de los datos:</p>\n",
    "\n",
    "<pre style=\"padding: 10px;\">\n",
    "<code>CREATE TABLE clientes (\n",
    "    cliente_id INT PRIMARY KEY,\n",
    "    email VARCHAR(100) UNIQUE,\n",
    "    nombre VARCHAR(50) NOT NULL\n",
    ");</code>\n",
    "</pre>\n",
    "\n",
    "<h3 style=\"color: #3498db;\">Ejemplo de Uso de <code>INSERT INTO</code></h3>\n",
    "\n",
    "<p>Una vez creada la tabla con sus restricciones, puedes utilizar <code>INSERT INTO</code> para agregar registros:</p>\n",
    "\n",
    "<pre style=\"padding: 10px;\">\n",
    "<code>INSERT INTO clientes (cliente_id, email, nombre)\n",
    "VALUES (1, 'correo@ejemplo.com', 'Juan Pérez');</code>\n",
    "</pre>\n",
    "\n",
    "<p>Si el <code>INSERT</code> no cumple con alguna de las restricciones, se producirá un error y la inserción fallará. Por ejemplo, intentar agregar un registro con un <code>cliente_id</code> duplicado o un <code>email</code> que ya exista, generará un error.</p>\n",
    "\n",
    "<p>Es importante planificar y definir adecuadamente las restricciones en la creación de las tablas para mantener la integridad de los datos y reducir errores en las operaciones <code>INSERT</code>.</p>\n"
   ]
  },
  {
   "cell_type": "markdown",
   "metadata": {},
   "source": [
    "<h2>Uso de <code>UPDATE</code> en SQL y Restricciones en las Tablas</h2>\n",
    "\n",
    "<p>En SQL, la instrucción <code>UPDATE</code> se utiliza para modificar los datos de registros existentes en una tabla. La estructura básica de una sentencia <code>UPDATE</code> es la siguiente:</p>\n",
    "\n",
    "<h3 style=\"color: #3498db;\">Sintaxis de <code>UPDATE</code></h3>\n",
    "\n",
    "<pre style=\"padding: 10px;\">\n",
    "<code>UPDATE nombre_tabla\n",
    "SET columna1 = valor1, columna2 = valor2, ...\n",
    "WHERE condicion;</code>\n",
    "</pre>\n",
    "\n",
    "<ul>\n",
    "    <li><strong><code>nombre_tabla</code></strong>: Es el nombre de la tabla en la que queremos realizar la actualización.</li>\n",
    "    <li><strong><code>SET</code></strong>: Palabra clave que indica el inicio de las columnas y valores que queremos modificar.</li>\n",
    "    <li><strong><code>columna1 = valor1, columna2 = valor2, ...</code></strong>: Especifica las columnas que se van a actualizar y los nuevos valores para cada una. Puedes modificar una o varias columnas en una sola instrucción <code>UPDATE</code>.</li>\n",
    "    <li><strong><code>WHERE</code></strong>: Condición que define qué registros se van a actualizar. Es importante usar esta cláusula para evitar modificar todos los registros de la tabla.</li>\n",
    "</ul>\n",
    "\n",
    "<p>Si no se incluye una cláusula <code>WHERE</code>, se actualizarán <strong>todos los registros</strong> de la tabla, lo cual puede no ser el comportamiento deseado.</p>\n",
    "\n",
    "<h3 style=\"color: #3498db;\">Restricciones Comunes que Afectan <code>UPDATE</code></h3>\n",
    "\n",
    "<p>Al realizar una operación <code>UPDATE</code>, es fundamental tener en cuenta las restricciones (<em>constraints</em>) definidas en la tabla, ya que limitan los valores permitidos y ayudan a mantener la integridad de los datos. A continuación se detallan las principales restricciones que afectan la actualización de registros:</p>\n",
    "\n",
    "<ul>\n",
    "    <li><strong>PRIMARY KEY</strong>: La clave primaria debe ser única y no nula. No se debe modificar su valor, ya que es la identificación única del registro.</li>\n",
    "    <li><strong>FOREIGN KEY</strong>: La clave foránea debe existir en la tabla de referencia. No se puede actualizar un valor que rompa esta relación.</li>\n",
    "    <li><strong>UNIQUE</strong>: Asegura que no existan valores duplicados en una columna específica. Al actualizar, hay que garantizar que el nuevo valor no cause duplicados.</li>\n",
    "    <li><strong>NOT NULL</strong>: Impide que una columna tenga valores nulos. Al realizar <code>UPDATE</code>, el nuevo valor debe ser diferente de <code>NULL</code> si la columna tiene esta restricción.</li>\n",
    "    <li><strong>CHECK</strong>: Define una condición que los datos deben cumplir al ser actualizados.</li>\n",
    "</ul>\n",
    "\n",
    "<p>Es importante respetar estas restricciones al actualizar los registros para evitar errores y mantener la integridad de los datos.</p>\n",
    "\n",
    "<h3 style=\"color: #3498db;\">Ejemplo de Uso de <code>UPDATE</code></h3>\n",
    "\n",
    "<p>Supongamos que tenemos una tabla <code>clientes</code> con las siguientes restricciones:</p>\n",
    "\n",
    "<pre style= padding: 10px;\">\n",
    "<code>CREATE TABLE clientes (\n",
    "    cliente_id INT PRIMARY KEY,\n",
    "    email VARCHAR(100) UNIQUE,\n",
    "    nombre VARCHAR(50) NOT NULL,\n",
    "    edad INT CHECK (edad >= 18)\n",
    ");</code>\n",
    "</pre>\n",
    "\n",
    "<p>Para actualizar el nombre y la edad de un cliente específico, podemos usar la instrucción <code>UPDATE</code> con una condición <code>WHERE</code> para especificar el registro que queremos modificar:</p>\n",
    "\n",
    "<pre style= padding: 10px;\">\n",
    "<code>UPDATE clientes\n",
    "SET nombre = 'Juan Pérez', edad = 30\n",
    "WHERE cliente_id = 1;</code>\n",
    "</pre>\n",
    "\n",
    "<p>Si la actualización viola alguna restricción (por ejemplo, poner un <code>email</code> duplicado o una <code>edad</code> menor a 18), la operación fallará. Por lo tanto, es importante conocer y respetar las restricciones definidas en la tabla.</p>\n",
    "\n",
    "<p>Planificar y definir adecuadamente las restricciones en la creación de las tablas es clave para evitar errores y mantener la coherencia de los datos en operaciones de actualización.</p>\n"
   ]
  },
  {
   "cell_type": "markdown",
   "metadata": {},
   "source": [
    "<h3>Creamos las Tablas</h3>\n",
    "<p>A continuación, vamos a crear las tablas que nos servirán para realizar los ejercicios.</p>\n",
    "<p>Realizamos la conexión a nuestra base de datos SQLITE, que se encuentra en memoria, y generamos las tablas e insertamos los datos.</p>"
   ]
  },
  {
   "cell_type": "code",
   "execution_count": 2,
   "metadata": {},
   "outputs": [],
   "source": [
    "%load_ext sql\n",
    "\n",
    "# Conectarse a una base de datos SQLite en memoria\n",
    "%sql sqlite:///:memory:"
   ]
  },
  {
   "cell_type": "markdown",
   "metadata": {},
   "source": [
    "<h5>1. Creamos una Tabla llamada <code>CLIENTES</code></h5>"
   ]
  },
  {
   "cell_type": "code",
   "execution_count": 3,
   "metadata": {
    "vscode": {
     "languageId": "sql"
    }
   },
   "outputs": [
    {
     "name": "stdout",
     "output_type": "stream",
     "text": [
      " * sqlite:///:memory:\n",
      "Done.\n"
     ]
    },
    {
     "data": {
      "text/plain": [
       "[]"
      ]
     },
     "execution_count": 3,
     "metadata": {},
     "output_type": "execute_result"
    }
   ],
   "source": [
    "%%sql\n",
    "CREATE TABLE Clientes (\n",
    "    cliente_id INTEGER PRIMARY KEY,\n",
    "    nombre VARCHAR(50),\n",
    "    apellido VARCHAR(50),\n",
    "    pais VARCHAR(50),\n",
    "    edad INTEGER\n",
    ");"
   ]
  },
  {
   "cell_type": "code",
   "execution_count": 4,
   "metadata": {
    "vscode": {
     "languageId": "sql"
    }
   },
   "outputs": [
    {
     "name": "stdout",
     "output_type": "stream",
     "text": [
      " * sqlite:///:memory:\n",
      "Done.\n"
     ]
    },
    {
     "data": {
      "text/plain": [
       "[]"
      ]
     },
     "execution_count": 4,
     "metadata": {},
     "output_type": "execute_result"
    }
   ],
   "source": [
    "%%sql\n",
    "CREATE TABLE Pedidos (\n",
    "    pedido_id INT PRIMARY KEY,\n",
    "    fecha DATE,\n",
    "    producto VARCHAR(50),\n",
    "    cantidad INT,\n",
    "    cliente_id INT,\n",
    "    pendiente BOOLEAN,\n",
    "    FOREIGN KEY (cliente_id) REFERENCES Clientes(cliente_id)\n",
    ");"
   ]
  },
  {
   "cell_type": "markdown",
   "metadata": {},
   "source": [
    "<h5>3. Creamos la Tabla <code>Empleados</code></h5>"
   ]
  },
  {
   "cell_type": "code",
   "execution_count": 5,
   "metadata": {
    "vscode": {
     "languageId": "sql"
    }
   },
   "outputs": [
    {
     "name": "stdout",
     "output_type": "stream",
     "text": [
      " * sqlite:///:memory:\n",
      "Done.\n"
     ]
    },
    {
     "data": {
      "text/plain": [
       "[]"
      ]
     },
     "execution_count": 5,
     "metadata": {},
     "output_type": "execute_result"
    }
   ],
   "source": [
    "%%sql\n",
    "CREATE TABLE Empleados (\n",
    "    id INTEGER PRIMARY KEY AUTOINCREMENT,\n",
    "    nombre TEXT NOT NULL,\n",
    "    departamento TEXT NOT NULL,\n",
    "    salario REAL NOT NULL,\n",
    "    correo TEXT\n",
    ");"
   ]
  },
  {
   "cell_type": "markdown",
   "metadata": {},
   "source": [
    "<h3>Insertamos datos en la tabla <b>Clientes</b>:</h3>"
   ]
  },
  {
   "cell_type": "code",
   "execution_count": 6,
   "metadata": {
    "vscode": {
     "languageId": "sql"
    }
   },
   "outputs": [
    {
     "name": "stdout",
     "output_type": "stream",
     "text": [
      " * sqlite:///:memory:\n",
      "10 rows affected.\n"
     ]
    },
    {
     "data": {
      "text/plain": [
       "[]"
      ]
     },
     "execution_count": 6,
     "metadata": {},
     "output_type": "execute_result"
    }
   ],
   "source": [
    "%%sql\n",
    "INSERT INTO Clientes (cliente_id, nombre, apellido, pais, edad) VALUES\n",
    "(1, 'Juan', 'Pérez', 'España', 30),\n",
    "(2, 'Ana', 'García', 'México', 25),\n",
    "(3, 'Luis', 'Martínez', 'Argentina', 35),\n",
    "(4, NULL, NULL,NULL, NULL),\n",
    "(5, 'Carlos', 'González', 'Colombia', 40),\n",
    "(6, 'Laura', 'Fernández', 'Chile', 22),\n",
    "(7, 'Pedro', 'Sánchez', 'España', 31),\n",
    "(8, 'Jhon', 'Doe', 'Reino Unido', 29),\n",
    "(9, 'Isabel', 'Núñez', 'México', 26),\n",
    "(10, 'Miguel', 'Romero', 'Perú', 33);"
   ]
  },
  {
   "cell_type": "markdown",
   "metadata": {},
   "source": [
    "\n",
    "<h3>Insertamos datos en la tabla <b>Pedidos</b>:</h3>\n"
   ]
  },
  {
   "cell_type": "code",
   "execution_count": 7,
   "metadata": {
    "vscode": {
     "languageId": "sql"
    }
   },
   "outputs": [
    {
     "name": "stdout",
     "output_type": "stream",
     "text": [
      " * sqlite:///:memory:\n",
      "10 rows affected.\n"
     ]
    },
    {
     "data": {
      "text/plain": [
       "[]"
      ]
     },
     "execution_count": 7,
     "metadata": {},
     "output_type": "execute_result"
    }
   ],
   "source": [
    "%%sql\n",
    "INSERT INTO Pedidos (pedido_id, fecha, producto, cantidad, cliente_id, pendiente) VALUES\n",
    "(1, '10-10-2024', 'Teclado', 5, 1, FALSE),\n",
    "(2, '11-10-2024', 'Ratón', 3, 2, TRUE),\n",
    "(3, '12-10-2024', 'Teclado', 4, 3, FALSE),\n",
    "(4, '13-10-2024', 'Ratón', 2, NULL, TRUE),\n",
    "(5, '14-10-2024', 'Monitor', 1, 5, FALSE),\n",
    "(6, '15-10-2024', 'Teclado', 2, 6, TRUE),\n",
    "(7, '16-10-2024', 'Ratón', 4, 7, FALSE),\n",
    "(8, '17-10-2024', 'Teclado', 3, 8, TRUE),\n",
    "(9, '18-10-2024', 'Monitor', 2, 9, FALSE),\n",
    "(10, '19-10-2024', 'Ratón', 5, 10, TRUE);\n"
   ]
  },
  {
   "cell_type": "markdown",
   "metadata": {},
   "source": [
    "\n",
    "<h3>Insertamos datos en la tabla <b>Empleados</b>:</h3>\n"
   ]
  },
  {
   "cell_type": "code",
   "execution_count": 8,
   "metadata": {
    "vscode": {
     "languageId": "sql"
    }
   },
   "outputs": [
    {
     "name": "stdout",
     "output_type": "stream",
     "text": [
      " * sqlite:///:memory:\n",
      "10 rows affected.\n"
     ]
    },
    {
     "data": {
      "text/plain": [
       "[]"
      ]
     },
     "execution_count": 8,
     "metadata": {},
     "output_type": "execute_result"
    }
   ],
   "source": [
    "%%sql\n",
    "INSERT INTO Empleados (nombre, departamento, salario, correo) VALUES \n",
    "('Ana', 'Ventas', 3500, 'ana@empresa.com'),\n",
    "('Luis', 'Ventas', 4200, 'luis@empresa.com'),\n",
    "('María', 'Marketing', 5000, 'maria@empresa.com'),\n",
    "('Carlos', 'Marketing', 4800, 'carlos@empresa.com'),\n",
    "('Laura', 'IT', 6000, 'laura@empresa.com'),\n",
    "('Jorge', 'IT', 6200, 'jorge@empresa.com'),\n",
    "('Sofía', 'Ventas', 3900, NULL),\n",
    "('Raúl', 'Recursos Humanos', 3700, 'raul@empresa.com'),\n",
    "('Elena', 'Recursos Humanos', 4100, NULL),\n",
    "('Marta', 'IT', 5700, 'marta@empresa.com');"
   ]
  },
  {
   "cell_type": "code",
   "execution_count": 9,
   "metadata": {
    "vscode": {
     "languageId": "sql"
    }
   },
   "outputs": [
    {
     "name": "stdout",
     "output_type": "stream",
     "text": [
      " * sqlite:///:memory:\n",
      "Done.\n"
     ]
    },
    {
     "data": {
      "text/html": [
       "<table>\n",
       "    <thead>\n",
       "        <tr>\n",
       "            <th>id</th>\n",
       "            <th>nombre</th>\n",
       "            <th>departamento</th>\n",
       "            <th>salario</th>\n",
       "            <th>correo</th>\n",
       "        </tr>\n",
       "    </thead>\n",
       "    <tbody>\n",
       "        <tr>\n",
       "            <td>1</td>\n",
       "            <td>Ana</td>\n",
       "            <td>Ventas</td>\n",
       "            <td>3500.0</td>\n",
       "            <td>ana@empresa.com</td>\n",
       "        </tr>\n",
       "        <tr>\n",
       "            <td>2</td>\n",
       "            <td>Luis</td>\n",
       "            <td>Ventas</td>\n",
       "            <td>4200.0</td>\n",
       "            <td>luis@empresa.com</td>\n",
       "        </tr>\n",
       "        <tr>\n",
       "            <td>3</td>\n",
       "            <td>María</td>\n",
       "            <td>Marketing</td>\n",
       "            <td>5000.0</td>\n",
       "            <td>maria@empresa.com</td>\n",
       "        </tr>\n",
       "        <tr>\n",
       "            <td>4</td>\n",
       "            <td>Carlos</td>\n",
       "            <td>Marketing</td>\n",
       "            <td>4800.0</td>\n",
       "            <td>carlos@empresa.com</td>\n",
       "        </tr>\n",
       "        <tr>\n",
       "            <td>5</td>\n",
       "            <td>Laura</td>\n",
       "            <td>IT</td>\n",
       "            <td>6000.0</td>\n",
       "            <td>laura@empresa.com</td>\n",
       "        </tr>\n",
       "        <tr>\n",
       "            <td>6</td>\n",
       "            <td>Jorge</td>\n",
       "            <td>IT</td>\n",
       "            <td>6200.0</td>\n",
       "            <td>jorge@empresa.com</td>\n",
       "        </tr>\n",
       "        <tr>\n",
       "            <td>7</td>\n",
       "            <td>Sofía</td>\n",
       "            <td>Ventas</td>\n",
       "            <td>3900.0</td>\n",
       "            <td>None</td>\n",
       "        </tr>\n",
       "        <tr>\n",
       "            <td>8</td>\n",
       "            <td>Raúl</td>\n",
       "            <td>Recursos Humanos</td>\n",
       "            <td>3700.0</td>\n",
       "            <td>raul@empresa.com</td>\n",
       "        </tr>\n",
       "        <tr>\n",
       "            <td>9</td>\n",
       "            <td>Elena</td>\n",
       "            <td>Recursos Humanos</td>\n",
       "            <td>4100.0</td>\n",
       "            <td>None</td>\n",
       "        </tr>\n",
       "        <tr>\n",
       "            <td>10</td>\n",
       "            <td>Marta</td>\n",
       "            <td>IT</td>\n",
       "            <td>5700.0</td>\n",
       "            <td>marta@empresa.com</td>\n",
       "        </tr>\n",
       "    </tbody>\n",
       "</table>"
      ],
      "text/plain": [
       "[(1, 'Ana', 'Ventas', 3500.0, 'ana@empresa.com'),\n",
       " (2, 'Luis', 'Ventas', 4200.0, 'luis@empresa.com'),\n",
       " (3, 'María', 'Marketing', 5000.0, 'maria@empresa.com'),\n",
       " (4, 'Carlos', 'Marketing', 4800.0, 'carlos@empresa.com'),\n",
       " (5, 'Laura', 'IT', 6000.0, 'laura@empresa.com'),\n",
       " (6, 'Jorge', 'IT', 6200.0, 'jorge@empresa.com'),\n",
       " (7, 'Sofía', 'Ventas', 3900.0, None),\n",
       " (8, 'Raúl', 'Recursos Humanos', 3700.0, 'raul@empresa.com'),\n",
       " (9, 'Elena', 'Recursos Humanos', 4100.0, None),\n",
       " (10, 'Marta', 'IT', 5700.0, 'marta@empresa.com')]"
      ]
     },
     "execution_count": 9,
     "metadata": {},
     "output_type": "execute_result"
    }
   ],
   "source": [
    "%%sql\n",
    "SELECT * FROM Empleados;"
   ]
  },
  {
   "cell_type": "markdown",
   "metadata": {},
   "source": [
    "<h2>Ejemplos de Uso de <code>UPDATE</code> en SQL</h2>\n",
    "\n",
    "<p>A continuación, se muestran seis ejemplos de la instrucción <code>UPDATE</code> para modificar registros en las tablas <code>Clientes</code>, <code>Pedidos</code>, y <code>Empleados</code>. Los primeros cuatro son ejemplos correctos de actualización, mientras que los dos últimos generarán errores debido a violaciones de restricciones en las tablas.</p>\n",
    "\n",
    "<h3 style=\"color: #3498db;\">Ejemplos Correctos de <code>UPDATE</code></h3>\n",
    "\n",
    "<p><strong>Ejemplo 1:</strong> Actualizar el país de un cliente específico en la tabla <code>Clientes</code>.</p>\n",
    "<p>Mostramos el dato que contiene: la tabla Clientes, el registro número 1:</p>"
   ]
  },
  {
   "cell_type": "code",
   "execution_count": 10,
   "metadata": {
    "vscode": {
     "languageId": "sql"
    }
   },
   "outputs": [
    {
     "name": "stdout",
     "output_type": "stream",
     "text": [
      " * sqlite:///:memory:\n",
      "Done.\n"
     ]
    },
    {
     "data": {
      "text/html": [
       "<table>\n",
       "    <thead>\n",
       "        <tr>\n",
       "            <th>cliente_id</th>\n",
       "            <th>nombre</th>\n",
       "            <th>apellido</th>\n",
       "            <th>pais</th>\n",
       "            <th>edad</th>\n",
       "        </tr>\n",
       "    </thead>\n",
       "    <tbody>\n",
       "        <tr>\n",
       "            <td>1</td>\n",
       "            <td>Juan</td>\n",
       "            <td>Pérez</td>\n",
       "            <td>España</td>\n",
       "            <td>30</td>\n",
       "        </tr>\n",
       "        <tr>\n",
       "            <td>2</td>\n",
       "            <td>Ana</td>\n",
       "            <td>García</td>\n",
       "            <td>México</td>\n",
       "            <td>25</td>\n",
       "        </tr>\n",
       "        <tr>\n",
       "            <td>3</td>\n",
       "            <td>Luis</td>\n",
       "            <td>Martínez</td>\n",
       "            <td>Argentina</td>\n",
       "            <td>35</td>\n",
       "        </tr>\n",
       "        <tr>\n",
       "            <td>4</td>\n",
       "            <td>None</td>\n",
       "            <td>None</td>\n",
       "            <td>None</td>\n",
       "            <td>None</td>\n",
       "        </tr>\n",
       "        <tr>\n",
       "            <td>5</td>\n",
       "            <td>Carlos</td>\n",
       "            <td>González</td>\n",
       "            <td>Colombia</td>\n",
       "            <td>40</td>\n",
       "        </tr>\n",
       "        <tr>\n",
       "            <td>6</td>\n",
       "            <td>Laura</td>\n",
       "            <td>Fernández</td>\n",
       "            <td>Chile</td>\n",
       "            <td>22</td>\n",
       "        </tr>\n",
       "        <tr>\n",
       "            <td>7</td>\n",
       "            <td>Pedro</td>\n",
       "            <td>Sánchez</td>\n",
       "            <td>España</td>\n",
       "            <td>31</td>\n",
       "        </tr>\n",
       "        <tr>\n",
       "            <td>8</td>\n",
       "            <td>Jhon</td>\n",
       "            <td>Doe</td>\n",
       "            <td>Reino Unido</td>\n",
       "            <td>29</td>\n",
       "        </tr>\n",
       "        <tr>\n",
       "            <td>9</td>\n",
       "            <td>Isabel</td>\n",
       "            <td>Núñez</td>\n",
       "            <td>México</td>\n",
       "            <td>26</td>\n",
       "        </tr>\n",
       "        <tr>\n",
       "            <td>10</td>\n",
       "            <td>Miguel</td>\n",
       "            <td>Romero</td>\n",
       "            <td>Perú</td>\n",
       "            <td>33</td>\n",
       "        </tr>\n",
       "    </tbody>\n",
       "</table>"
      ],
      "text/plain": [
       "[(1, 'Juan', 'Pérez', 'España', 30),\n",
       " (2, 'Ana', 'García', 'México', 25),\n",
       " (3, 'Luis', 'Martínez', 'Argentina', 35),\n",
       " (4, None, None, None, None),\n",
       " (5, 'Carlos', 'González', 'Colombia', 40),\n",
       " (6, 'Laura', 'Fernández', 'Chile', 22),\n",
       " (7, 'Pedro', 'Sánchez', 'España', 31),\n",
       " (8, 'Jhon', 'Doe', 'Reino Unido', 29),\n",
       " (9, 'Isabel', 'Núñez', 'México', 26),\n",
       " (10, 'Miguel', 'Romero', 'Perú', 33)]"
      ]
     },
     "execution_count": 10,
     "metadata": {},
     "output_type": "execute_result"
    }
   ],
   "source": [
    "%%sql\n",
    "SELECT * FROM Clientes;"
   ]
  },
  {
   "cell_type": "markdown",
   "metadata": {},
   "source": [
    "<p>Actualizamos el campo pais de España a Brasil:</p>"
   ]
  },
  {
   "cell_type": "code",
   "execution_count": 11,
   "metadata": {
    "vscode": {
     "languageId": "sql"
    }
   },
   "outputs": [
    {
     "name": "stdout",
     "output_type": "stream",
     "text": [
      " * sqlite:///:memory:\n",
      "1 rows affected.\n"
     ]
    },
    {
     "data": {
      "text/plain": [
       "[]"
      ]
     },
     "execution_count": 11,
     "metadata": {},
     "output_type": "execute_result"
    }
   ],
   "source": [
    "%%sql\n",
    "UPDATE Clientes\n",
    "SET pais = 'España'\n",
    "WHERE Cliente_ID = '2';"
   ]
  },
  {
   "cell_type": "markdown",
   "metadata": {},
   "source": [
    "<p>Quedando así:</p>"
   ]
  },
  {
   "cell_type": "code",
   "execution_count": 12,
   "metadata": {
    "vscode": {
     "languageId": "sql"
    }
   },
   "outputs": [
    {
     "name": "stdout",
     "output_type": "stream",
     "text": [
      " * sqlite:///:memory:\n",
      "Done.\n"
     ]
    },
    {
     "data": {
      "text/html": [
       "<table>\n",
       "    <thead>\n",
       "        <tr>\n",
       "            <th>cliente_id</th>\n",
       "            <th>nombre</th>\n",
       "            <th>apellido</th>\n",
       "            <th>pais</th>\n",
       "            <th>edad</th>\n",
       "        </tr>\n",
       "    </thead>\n",
       "    <tbody>\n",
       "        <tr>\n",
       "            <td>1</td>\n",
       "            <td>Juan</td>\n",
       "            <td>Pérez</td>\n",
       "            <td>España</td>\n",
       "            <td>30</td>\n",
       "        </tr>\n",
       "    </tbody>\n",
       "</table>"
      ],
      "text/plain": [
       "[(1, 'Juan', 'Pérez', 'España', 30)]"
      ]
     },
     "execution_count": 12,
     "metadata": {},
     "output_type": "execute_result"
    }
   ],
   "source": [
    "%%sql\n",
    "SELECT * FROM Clientes \n",
    "WHERE cliente_id=1;"
   ]
  },
  {
   "cell_type": "markdown",
   "metadata": {},
   "source": [
    "\n",
    "<p><strong>Ejemplo 2:</strong> Cambiar la cantidad de un pedido en la tabla <code>Pedidos</code>.</p>\n"
   ]
  },
  {
   "cell_type": "markdown",
   "metadata": {},
   "source": [
    "<p>Mostramos los datos que contiene: la tabla Pedidos, el registro número 3:</p>"
   ]
  },
  {
   "cell_type": "code",
   "execution_count": 13,
   "metadata": {
    "vscode": {
     "languageId": "sql"
    }
   },
   "outputs": [
    {
     "name": "stdout",
     "output_type": "stream",
     "text": [
      " * sqlite:///:memory:\n",
      "Done.\n"
     ]
    },
    {
     "data": {
      "text/html": [
       "<table>\n",
       "    <thead>\n",
       "        <tr>\n",
       "            <th>pedido_id</th>\n",
       "            <th>fecha</th>\n",
       "            <th>producto</th>\n",
       "            <th>cantidad</th>\n",
       "            <th>cliente_id</th>\n",
       "            <th>pendiente</th>\n",
       "        </tr>\n",
       "    </thead>\n",
       "    <tbody>\n",
       "        <tr>\n",
       "            <td>3</td>\n",
       "            <td>12-10-2024</td>\n",
       "            <td>Teclado</td>\n",
       "            <td>4</td>\n",
       "            <td>3</td>\n",
       "            <td>0</td>\n",
       "        </tr>\n",
       "    </tbody>\n",
       "</table>"
      ],
      "text/plain": [
       "[(3, '12-10-2024', 'Teclado', 4, 3, 0)]"
      ]
     },
     "execution_count": 13,
     "metadata": {},
     "output_type": "execute_result"
    }
   ],
   "source": [
    "%%sql\n",
    "SELECT * FROM Pedidos \n",
    "WHERE pedido_id=3; "
   ]
  },
  {
   "cell_type": "markdown",
   "metadata": {},
   "source": [
    "<p>Actualizamos el campo cantidad de 4 a 10 del registro número 3:</p>"
   ]
  },
  {
   "cell_type": "code",
   "execution_count": 14,
   "metadata": {
    "vscode": {
     "languageId": "sql"
    }
   },
   "outputs": [
    {
     "name": "stdout",
     "output_type": "stream",
     "text": [
      " * sqlite:///:memory:\n",
      "1 rows affected.\n"
     ]
    },
    {
     "data": {
      "text/plain": [
       "[]"
      ]
     },
     "execution_count": 14,
     "metadata": {},
     "output_type": "execute_result"
    }
   ],
   "source": [
    "%%sql\n",
    "UPDATE Pedidos\n",
    "SET cantidad = 10\n",
    "WHERE pedido_id = 3;"
   ]
  },
  {
   "cell_type": "markdown",
   "metadata": {},
   "source": [
    "<p>Quedando así:</p>"
   ]
  },
  {
   "cell_type": "code",
   "execution_count": 15,
   "metadata": {
    "vscode": {
     "languageId": "sql"
    }
   },
   "outputs": [
    {
     "name": "stdout",
     "output_type": "stream",
     "text": [
      " * sqlite:///:memory:\n",
      "Done.\n"
     ]
    },
    {
     "data": {
      "text/html": [
       "<table>\n",
       "    <thead>\n",
       "        <tr>\n",
       "            <th>pedido_id</th>\n",
       "            <th>fecha</th>\n",
       "            <th>producto</th>\n",
       "            <th>cantidad</th>\n",
       "            <th>cliente_id</th>\n",
       "            <th>pendiente</th>\n",
       "        </tr>\n",
       "    </thead>\n",
       "    <tbody>\n",
       "        <tr>\n",
       "            <td>3</td>\n",
       "            <td>12-10-2024</td>\n",
       "            <td>Teclado</td>\n",
       "            <td>10</td>\n",
       "            <td>3</td>\n",
       "            <td>0</td>\n",
       "        </tr>\n",
       "    </tbody>\n",
       "</table>"
      ],
      "text/plain": [
       "[(3, '12-10-2024', 'Teclado', 10, 3, 0)]"
      ]
     },
     "execution_count": 15,
     "metadata": {},
     "output_type": "execute_result"
    }
   ],
   "source": [
    "%%sql\n",
    "SELECT * FROM Pedidos \n",
    "WHERE pedido_id=3;"
   ]
  },
  {
   "cell_type": "markdown",
   "metadata": {},
   "source": [
    "\n",
    "<p><strong>Ejemplo 3:</strong> Modificar el salario de un empleado en la tabla <code>Empleados</code>.</p>\n"
   ]
  },
  {
   "cell_type": "code",
   "execution_count": 16,
   "metadata": {
    "vscode": {
     "languageId": "sql"
    }
   },
   "outputs": [
    {
     "name": "stdout",
     "output_type": "stream",
     "text": [
      " * sqlite:///:memory:\n",
      "Done.\n"
     ]
    },
    {
     "data": {
      "text/html": [
       "<table>\n",
       "    <thead>\n",
       "        <tr>\n",
       "            <th>id</th>\n",
       "            <th>nombre</th>\n",
       "            <th>departamento</th>\n",
       "            <th>salario</th>\n",
       "            <th>correo</th>\n",
       "        </tr>\n",
       "    </thead>\n",
       "    <tbody>\n",
       "        <tr>\n",
       "            <td>1</td>\n",
       "            <td>Ana</td>\n",
       "            <td>Ventas</td>\n",
       "            <td>3500.0</td>\n",
       "            <td>ana@empresa.com</td>\n",
       "        </tr>\n",
       "        <tr>\n",
       "            <td>2</td>\n",
       "            <td>Luis</td>\n",
       "            <td>Ventas</td>\n",
       "            <td>4200.0</td>\n",
       "            <td>luis@empresa.com</td>\n",
       "        </tr>\n",
       "        <tr>\n",
       "            <td>3</td>\n",
       "            <td>María</td>\n",
       "            <td>Marketing</td>\n",
       "            <td>5000.0</td>\n",
       "            <td>maria@empresa.com</td>\n",
       "        </tr>\n",
       "        <tr>\n",
       "            <td>4</td>\n",
       "            <td>Carlos</td>\n",
       "            <td>Marketing</td>\n",
       "            <td>4800.0</td>\n",
       "            <td>carlos@empresa.com</td>\n",
       "        </tr>\n",
       "        <tr>\n",
       "            <td>5</td>\n",
       "            <td>Laura</td>\n",
       "            <td>IT</td>\n",
       "            <td>6000.0</td>\n",
       "            <td>laura@empresa.com</td>\n",
       "        </tr>\n",
       "        <tr>\n",
       "            <td>6</td>\n",
       "            <td>Jorge</td>\n",
       "            <td>IT</td>\n",
       "            <td>6200.0</td>\n",
       "            <td>jorge@empresa.com</td>\n",
       "        </tr>\n",
       "        <tr>\n",
       "            <td>7</td>\n",
       "            <td>Sofía</td>\n",
       "            <td>Ventas</td>\n",
       "            <td>3900.0</td>\n",
       "            <td>None</td>\n",
       "        </tr>\n",
       "        <tr>\n",
       "            <td>8</td>\n",
       "            <td>Raúl</td>\n",
       "            <td>Recursos Humanos</td>\n",
       "            <td>3700.0</td>\n",
       "            <td>raul@empresa.com</td>\n",
       "        </tr>\n",
       "        <tr>\n",
       "            <td>9</td>\n",
       "            <td>Elena</td>\n",
       "            <td>Recursos Humanos</td>\n",
       "            <td>4100.0</td>\n",
       "            <td>None</td>\n",
       "        </tr>\n",
       "        <tr>\n",
       "            <td>10</td>\n",
       "            <td>Marta</td>\n",
       "            <td>IT</td>\n",
       "            <td>5700.0</td>\n",
       "            <td>marta@empresa.com</td>\n",
       "        </tr>\n",
       "    </tbody>\n",
       "</table>"
      ],
      "text/plain": [
       "[(1, 'Ana', 'Ventas', 3500.0, 'ana@empresa.com'),\n",
       " (2, 'Luis', 'Ventas', 4200.0, 'luis@empresa.com'),\n",
       " (3, 'María', 'Marketing', 5000.0, 'maria@empresa.com'),\n",
       " (4, 'Carlos', 'Marketing', 4800.0, 'carlos@empresa.com'),\n",
       " (5, 'Laura', 'IT', 6000.0, 'laura@empresa.com'),\n",
       " (6, 'Jorge', 'IT', 6200.0, 'jorge@empresa.com'),\n",
       " (7, 'Sofía', 'Ventas', 3900.0, None),\n",
       " (8, 'Raúl', 'Recursos Humanos', 3700.0, 'raul@empresa.com'),\n",
       " (9, 'Elena', 'Recursos Humanos', 4100.0, None),\n",
       " (10, 'Marta', 'IT', 5700.0, 'marta@empresa.com')]"
      ]
     },
     "execution_count": 16,
     "metadata": {},
     "output_type": "execute_result"
    }
   ],
   "source": [
    "%%sql\n",
    "SELECT * FROM Empleados;"
   ]
  },
  {
   "cell_type": "code",
   "execution_count": 17,
   "metadata": {
    "vscode": {
     "languageId": "sql"
    }
   },
   "outputs": [
    {
     "name": "stdout",
     "output_type": "stream",
     "text": [
      " * sqlite:///:memory:\n",
      "1 rows affected.\n"
     ]
    },
    {
     "data": {
      "text/plain": [
       "[]"
      ]
     },
     "execution_count": 17,
     "metadata": {},
     "output_type": "execute_result"
    }
   ],
   "source": [
    "%%sql\n",
    "UPDATE Empleados\n",
    "SET salario = 5500\n",
    "WHERE nombre = 'Ana';"
   ]
  },
  {
   "cell_type": "markdown",
   "metadata": {},
   "source": [
    "\n",
    "<p><strong>Ejemplo 4:</strong> Actualizar el estado de un pedido a \"pendiente\" en la tabla <code>Pedidos</code>.</p>\n"
   ]
  },
  {
   "cell_type": "code",
   "execution_count": 18,
   "metadata": {
    "vscode": {
     "languageId": "sql"
    }
   },
   "outputs": [
    {
     "name": "stdout",
     "output_type": "stream",
     "text": [
      " * sqlite:///:memory:\n",
      "Done.\n"
     ]
    },
    {
     "data": {
      "text/html": [
       "<table>\n",
       "    <thead>\n",
       "        <tr>\n",
       "            <th>pedido_id</th>\n",
       "            <th>fecha</th>\n",
       "            <th>producto</th>\n",
       "            <th>cantidad</th>\n",
       "            <th>cliente_id</th>\n",
       "            <th>pendiente</th>\n",
       "        </tr>\n",
       "    </thead>\n",
       "    <tbody>\n",
       "        <tr>\n",
       "            <td>1</td>\n",
       "            <td>10-10-2024</td>\n",
       "            <td>Teclado</td>\n",
       "            <td>5</td>\n",
       "            <td>1</td>\n",
       "            <td>0</td>\n",
       "        </tr>\n",
       "        <tr>\n",
       "            <td>2</td>\n",
       "            <td>11-10-2024</td>\n",
       "            <td>Ratón</td>\n",
       "            <td>3</td>\n",
       "            <td>2</td>\n",
       "            <td>1</td>\n",
       "        </tr>\n",
       "        <tr>\n",
       "            <td>3</td>\n",
       "            <td>12-10-2024</td>\n",
       "            <td>Teclado</td>\n",
       "            <td>10</td>\n",
       "            <td>3</td>\n",
       "            <td>0</td>\n",
       "        </tr>\n",
       "        <tr>\n",
       "            <td>4</td>\n",
       "            <td>13-10-2024</td>\n",
       "            <td>Ratón</td>\n",
       "            <td>2</td>\n",
       "            <td>None</td>\n",
       "            <td>1</td>\n",
       "        </tr>\n",
       "        <tr>\n",
       "            <td>5</td>\n",
       "            <td>14-10-2024</td>\n",
       "            <td>Monitor</td>\n",
       "            <td>1</td>\n",
       "            <td>5</td>\n",
       "            <td>0</td>\n",
       "        </tr>\n",
       "        <tr>\n",
       "            <td>6</td>\n",
       "            <td>15-10-2024</td>\n",
       "            <td>Teclado</td>\n",
       "            <td>2</td>\n",
       "            <td>6</td>\n",
       "            <td>1</td>\n",
       "        </tr>\n",
       "        <tr>\n",
       "            <td>7</td>\n",
       "            <td>16-10-2024</td>\n",
       "            <td>Ratón</td>\n",
       "            <td>4</td>\n",
       "            <td>7</td>\n",
       "            <td>0</td>\n",
       "        </tr>\n",
       "        <tr>\n",
       "            <td>8</td>\n",
       "            <td>17-10-2024</td>\n",
       "            <td>Teclado</td>\n",
       "            <td>3</td>\n",
       "            <td>8</td>\n",
       "            <td>1</td>\n",
       "        </tr>\n",
       "        <tr>\n",
       "            <td>9</td>\n",
       "            <td>18-10-2024</td>\n",
       "            <td>Monitor</td>\n",
       "            <td>2</td>\n",
       "            <td>9</td>\n",
       "            <td>0</td>\n",
       "        </tr>\n",
       "        <tr>\n",
       "            <td>10</td>\n",
       "            <td>19-10-2024</td>\n",
       "            <td>Ratón</td>\n",
       "            <td>5</td>\n",
       "            <td>10</td>\n",
       "            <td>1</td>\n",
       "        </tr>\n",
       "    </tbody>\n",
       "</table>"
      ],
      "text/plain": [
       "[(1, '10-10-2024', 'Teclado', 5, 1, 0),\n",
       " (2, '11-10-2024', 'Ratón', 3, 2, 1),\n",
       " (3, '12-10-2024', 'Teclado', 10, 3, 0),\n",
       " (4, '13-10-2024', 'Ratón', 2, None, 1),\n",
       " (5, '14-10-2024', 'Monitor', 1, 5, 0),\n",
       " (6, '15-10-2024', 'Teclado', 2, 6, 1),\n",
       " (7, '16-10-2024', 'Ratón', 4, 7, 0),\n",
       " (8, '17-10-2024', 'Teclado', 3, 8, 1),\n",
       " (9, '18-10-2024', 'Monitor', 2, 9, 0),\n",
       " (10, '19-10-2024', 'Ratón', 5, 10, 1)]"
      ]
     },
     "execution_count": 18,
     "metadata": {},
     "output_type": "execute_result"
    }
   ],
   "source": [
    "%%sql\n",
    "SELECT * FROM Pedidos;"
   ]
  },
  {
   "cell_type": "code",
   "execution_count": 19,
   "metadata": {
    "vscode": {
     "languageId": "sql"
    }
   },
   "outputs": [
    {
     "name": "stdout",
     "output_type": "stream",
     "text": [
      " * sqlite:///:memory:\n",
      "1 rows affected.\n"
     ]
    },
    {
     "data": {
      "text/plain": [
       "[]"
      ]
     },
     "execution_count": 19,
     "metadata": {},
     "output_type": "execute_result"
    }
   ],
   "source": [
    "%%sql\n",
    "UPDATE Pedidos\n",
    "SET pendiente = TRUE\n",
    "WHERE pedido_id = 5;"
   ]
  },
  {
   "cell_type": "markdown",
   "metadata": {},
   "source": [
    "\n",
    "<h3 style=\"color: #e74c3c;\">Ejemplos de <code>UPDATE</code> que Generarán Errores</h3>\n",
    "\n",
    "<p><strong>Ejemplo 5:</strong> Intentar actualizar un valor en la columna <code>cliente_id</code> de la tabla <code>Pedidos</code> con un ID de cliente inexistente (viola la restricción <code>FOREIGN KEY</code>).</p>\n"
   ]
  },
  {
   "cell_type": "code",
   "execution_count": 20,
   "metadata": {
    "vscode": {
     "languageId": "sql"
    }
   },
   "outputs": [
    {
     "name": "stdout",
     "output_type": "stream",
     "text": [
      " * sqlite:///:memory:\n",
      "1 rows affected.\n"
     ]
    },
    {
     "data": {
      "text/plain": [
       "[]"
      ]
     },
     "execution_count": 20,
     "metadata": {},
     "output_type": "execute_result"
    }
   ],
   "source": [
    "%%sql\n",
    "UPDATE Pedidos\n",
    "SET cliente_id = 999\n",
    "WHERE pedido_id = 2;"
   ]
  },
  {
   "cell_type": "code",
   "execution_count": 21,
   "metadata": {
    "vscode": {
     "languageId": "sql"
    }
   },
   "outputs": [
    {
     "name": "stdout",
     "output_type": "stream",
     "text": [
      " * sqlite:///:memory:\n",
      "Done.\n"
     ]
    },
    {
     "data": {
      "text/html": [
       "<table>\n",
       "    <thead>\n",
       "        <tr>\n",
       "            <th>pedido_id</th>\n",
       "            <th>fecha</th>\n",
       "            <th>producto</th>\n",
       "            <th>cantidad</th>\n",
       "            <th>cliente_id</th>\n",
       "            <th>pendiente</th>\n",
       "        </tr>\n",
       "    </thead>\n",
       "    <tbody>\n",
       "        <tr>\n",
       "            <td>1</td>\n",
       "            <td>10-10-2024</td>\n",
       "            <td>Teclado</td>\n",
       "            <td>5</td>\n",
       "            <td>1</td>\n",
       "            <td>0</td>\n",
       "        </tr>\n",
       "        <tr>\n",
       "            <td>2</td>\n",
       "            <td>11-10-2024</td>\n",
       "            <td>Ratón</td>\n",
       "            <td>3</td>\n",
       "            <td>999</td>\n",
       "            <td>1</td>\n",
       "        </tr>\n",
       "        <tr>\n",
       "            <td>3</td>\n",
       "            <td>12-10-2024</td>\n",
       "            <td>Teclado</td>\n",
       "            <td>10</td>\n",
       "            <td>3</td>\n",
       "            <td>0</td>\n",
       "        </tr>\n",
       "        <tr>\n",
       "            <td>4</td>\n",
       "            <td>13-10-2024</td>\n",
       "            <td>Ratón</td>\n",
       "            <td>2</td>\n",
       "            <td>None</td>\n",
       "            <td>1</td>\n",
       "        </tr>\n",
       "        <tr>\n",
       "            <td>5</td>\n",
       "            <td>14-10-2024</td>\n",
       "            <td>Monitor</td>\n",
       "            <td>1</td>\n",
       "            <td>5</td>\n",
       "            <td>1</td>\n",
       "        </tr>\n",
       "        <tr>\n",
       "            <td>6</td>\n",
       "            <td>15-10-2024</td>\n",
       "            <td>Teclado</td>\n",
       "            <td>2</td>\n",
       "            <td>6</td>\n",
       "            <td>1</td>\n",
       "        </tr>\n",
       "        <tr>\n",
       "            <td>7</td>\n",
       "            <td>16-10-2024</td>\n",
       "            <td>Ratón</td>\n",
       "            <td>4</td>\n",
       "            <td>7</td>\n",
       "            <td>0</td>\n",
       "        </tr>\n",
       "        <tr>\n",
       "            <td>8</td>\n",
       "            <td>17-10-2024</td>\n",
       "            <td>Teclado</td>\n",
       "            <td>3</td>\n",
       "            <td>8</td>\n",
       "            <td>1</td>\n",
       "        </tr>\n",
       "        <tr>\n",
       "            <td>9</td>\n",
       "            <td>18-10-2024</td>\n",
       "            <td>Monitor</td>\n",
       "            <td>2</td>\n",
       "            <td>9</td>\n",
       "            <td>0</td>\n",
       "        </tr>\n",
       "        <tr>\n",
       "            <td>10</td>\n",
       "            <td>19-10-2024</td>\n",
       "            <td>Ratón</td>\n",
       "            <td>5</td>\n",
       "            <td>10</td>\n",
       "            <td>1</td>\n",
       "        </tr>\n",
       "    </tbody>\n",
       "</table>"
      ],
      "text/plain": [
       "[(1, '10-10-2024', 'Teclado', 5, 1, 0),\n",
       " (2, '11-10-2024', 'Ratón', 3, 999, 1),\n",
       " (3, '12-10-2024', 'Teclado', 10, 3, 0),\n",
       " (4, '13-10-2024', 'Ratón', 2, None, 1),\n",
       " (5, '14-10-2024', 'Monitor', 1, 5, 1),\n",
       " (6, '15-10-2024', 'Teclado', 2, 6, 1),\n",
       " (7, '16-10-2024', 'Ratón', 4, 7, 0),\n",
       " (8, '17-10-2024', 'Teclado', 3, 8, 1),\n",
       " (9, '18-10-2024', 'Monitor', 2, 9, 0),\n",
       " (10, '19-10-2024', 'Ratón', 5, 10, 1)]"
      ]
     },
     "execution_count": 21,
     "metadata": {},
     "output_type": "execute_result"
    }
   ],
   "source": [
    "%%sql\n",
    "SELECT * FROM Pedidos;"
   ]
  },
  {
   "cell_type": "markdown",
   "metadata": {},
   "source": [
    "\n",
    "<p><strong>Ejemplo 6:</strong> Intentar modificar el <code>cliente_id</code> en la tabla <code>Clientes</code> a <code>NULL</code>, lo cual violaría la restricción <code>PRIMARY KEY</code>.</p>\n"
   ]
  },
  {
   "cell_type": "code",
   "execution_count": 22,
   "metadata": {
    "vscode": {
     "languageId": "sql"
    }
   },
   "outputs": [
    {
     "name": "stdout",
     "output_type": "stream",
     "text": [
      " * sqlite:///:memory:\n",
      "(sqlite3.IntegrityError) datatype mismatch\n",
      "[SQL: UPDATE Clientes\n",
      "SET cliente_id = NULL\n",
      "WHERE cliente_id = 3;]\n",
      "(Background on this error at: https://sqlalche.me/e/20/gkpj)\n"
     ]
    }
   ],
   "source": [
    "%%sql\n",
    "UPDATE Clientes\n",
    "SET cliente_id = NULL\n",
    "WHERE cliente_id = 3;"
   ]
  },
  {
   "cell_type": "markdown",
   "metadata": {},
   "source": [
    "\n",
    "<p>En estos últimos ejemplos, las restricciones <em>FOREIGN KEY</em> y <em>PRIMARY KEY</em> impedirán que la instrucción <code>UPDATE</code> se ejecute correctamente, generando un error.</p>\n"
   ]
  },
  {
   "cell_type": "markdown",
   "metadata": {},
   "source": [
    "<h2>Sentencia <code>DELETE</code> en SQL</h2>\n",
    "\n",
    "<p>La instrucción <code>DELETE</code> se utiliza para eliminar registros de una tabla en una base de datos. Al igual que con las sentencias de actualización, es importante usar condiciones adecuadas para evitar eliminar todos los registros accidentalmente.</p>\n",
    "\n",
    "<h3 style=\"color: #e74c3c;\">Ejemplo de uso de <code>DELETE</code> en SQL</h3>\n",
    "\n",
    "<p>Supongamos que queremos eliminar un cliente específico en la tabla <code>clientes</code> donde el <code>id</code> sea igual a un valor determinado. La sentencia SQL sería:</p>\n",
    "\n",
    "<pre><code>DELETE FROM clientes WHERE id = ?;</code></pre>\n",
    "\n",
    "<p>Es recomendable utilizar la cláusula <code>WHERE</code> para especificar el registro exacto que deseas eliminar.</p>\n",
    "\n",
    "<h3 style=\"color: #e74c3c;\">Precaución</h3>\n",
    "<p>Si omites la condición <code>WHERE</code>, todos los registros de la tabla serán eliminados. Por eso, asegúrate de definir claramente la condición de borrado.</p>\n"
   ]
  },
  {
   "cell_type": "markdown",
   "metadata": {},
   "source": [
    "<h2>Comandos ALTER y DROP en SQL</h2>\n",
    "\n",
    "<h3>Comando ALTER</h3>\n",
    "<p>El comando <strong>ALTER</strong> se utiliza para modificar la estructura de una tabla existente en una base de datos. Este comando permite añadir, eliminar o modificar columnas, así como definir o cambiar las restricciones de las mismas.</p>\n",
    "<p>Algunos usos comunes del comando ALTER:</p>\n",
    "<ul>\n",
    "  <li><code>ALTER TABLE nombre_tabla ADD columna tipo_dato;</code>: Añade una nueva columna a la tabla.</li>\n",
    "  <li><code>ALTER TABLE nombre_tabla DROP COLUMN columna;</code>: Elimina una columna de la tabla.</li>\n",
    "  <li><code>ALTER TABLE nombre_tabla MODIFY columna tipo_dato;</code>: Modifica el tipo de dato de una columna.</li>\n",
    "</ul>\n",
    "\n",
    "<h2>Ejemplos de ALTER ADD, DROP y MODIFY en SQL</h2>\n",
    "\n",
    "<h3>Ejemplo de ALTER ADD</h3>\n"
   ]
  },
  {
   "cell_type": "code",
   "execution_count": 23,
   "metadata": {
    "vscode": {
     "languageId": "sql"
    }
   },
   "outputs": [
    {
     "name": "stdout",
     "output_type": "stream",
     "text": [
      " * sqlite:///:memory:\n",
      "Done.\n"
     ]
    },
    {
     "data": {
      "text/html": [
       "<table>\n",
       "    <thead>\n",
       "        <tr>\n",
       "            <th>cliente_id</th>\n",
       "            <th>nombre</th>\n",
       "            <th>apellido</th>\n",
       "            <th>pais</th>\n",
       "            <th>edad</th>\n",
       "        </tr>\n",
       "    </thead>\n",
       "    <tbody>\n",
       "        <tr>\n",
       "            <td>1</td>\n",
       "            <td>Juan</td>\n",
       "            <td>Pérez</td>\n",
       "            <td>España</td>\n",
       "            <td>30</td>\n",
       "        </tr>\n",
       "        <tr>\n",
       "            <td>2</td>\n",
       "            <td>Ana</td>\n",
       "            <td>García</td>\n",
       "            <td>España</td>\n",
       "            <td>25</td>\n",
       "        </tr>\n",
       "        <tr>\n",
       "            <td>3</td>\n",
       "            <td>Luis</td>\n",
       "            <td>Martínez</td>\n",
       "            <td>Argentina</td>\n",
       "            <td>35</td>\n",
       "        </tr>\n",
       "        <tr>\n",
       "            <td>4</td>\n",
       "            <td>None</td>\n",
       "            <td>None</td>\n",
       "            <td>None</td>\n",
       "            <td>None</td>\n",
       "        </tr>\n",
       "        <tr>\n",
       "            <td>5</td>\n",
       "            <td>Carlos</td>\n",
       "            <td>González</td>\n",
       "            <td>Colombia</td>\n",
       "            <td>40</td>\n",
       "        </tr>\n",
       "        <tr>\n",
       "            <td>6</td>\n",
       "            <td>Laura</td>\n",
       "            <td>Fernández</td>\n",
       "            <td>Chile</td>\n",
       "            <td>22</td>\n",
       "        </tr>\n",
       "        <tr>\n",
       "            <td>7</td>\n",
       "            <td>Pedro</td>\n",
       "            <td>Sánchez</td>\n",
       "            <td>España</td>\n",
       "            <td>31</td>\n",
       "        </tr>\n",
       "        <tr>\n",
       "            <td>8</td>\n",
       "            <td>Jhon</td>\n",
       "            <td>Doe</td>\n",
       "            <td>Reino Unido</td>\n",
       "            <td>29</td>\n",
       "        </tr>\n",
       "        <tr>\n",
       "            <td>9</td>\n",
       "            <td>Isabel</td>\n",
       "            <td>Núñez</td>\n",
       "            <td>México</td>\n",
       "            <td>26</td>\n",
       "        </tr>\n",
       "        <tr>\n",
       "            <td>10</td>\n",
       "            <td>Miguel</td>\n",
       "            <td>Romero</td>\n",
       "            <td>Perú</td>\n",
       "            <td>33</td>\n",
       "        </tr>\n",
       "    </tbody>\n",
       "</table>"
      ],
      "text/plain": [
       "[(1, 'Juan', 'Pérez', 'España', 30),\n",
       " (2, 'Ana', 'García', 'España', 25),\n",
       " (3, 'Luis', 'Martínez', 'Argentina', 35),\n",
       " (4, None, None, None, None),\n",
       " (5, 'Carlos', 'González', 'Colombia', 40),\n",
       " (6, 'Laura', 'Fernández', 'Chile', 22),\n",
       " (7, 'Pedro', 'Sánchez', 'España', 31),\n",
       " (8, 'Jhon', 'Doe', 'Reino Unido', 29),\n",
       " (9, 'Isabel', 'Núñez', 'México', 26),\n",
       " (10, 'Miguel', 'Romero', 'Perú', 33)]"
      ]
     },
     "execution_count": 23,
     "metadata": {},
     "output_type": "execute_result"
    }
   ],
   "source": [
    "%%sql\n",
    "select * from clientes;"
   ]
  },
  {
   "cell_type": "markdown",
   "metadata": {},
   "source": [
    "\n",
    "<p>El siguiente ejemplo agrega una nueva columna <code>calle</code> de tipo <code>Varchar(50)</code> a la tabla <code>clientes</code>:</p>"
   ]
  },
  {
   "cell_type": "code",
   "execution_count": 24,
   "metadata": {
    "vscode": {
     "languageId": "sql"
    }
   },
   "outputs": [
    {
     "name": "stdout",
     "output_type": "stream",
     "text": [
      " * sqlite:///:memory:\n",
      "Done.\n",
      "Done.\n"
     ]
    },
    {
     "data": {
      "text/html": [
       "<table>\n",
       "    <thead>\n",
       "        <tr>\n",
       "            <th>cliente_id</th>\n",
       "            <th>nombre</th>\n",
       "            <th>apellido</th>\n",
       "            <th>pais</th>\n",
       "            <th>edad</th>\n",
       "            <th>calle</th>\n",
       "        </tr>\n",
       "    </thead>\n",
       "    <tbody>\n",
       "        <tr>\n",
       "            <td>1</td>\n",
       "            <td>Juan</td>\n",
       "            <td>Pérez</td>\n",
       "            <td>España</td>\n",
       "            <td>30</td>\n",
       "            <td>None</td>\n",
       "        </tr>\n",
       "        <tr>\n",
       "            <td>2</td>\n",
       "            <td>Ana</td>\n",
       "            <td>García</td>\n",
       "            <td>España</td>\n",
       "            <td>25</td>\n",
       "            <td>None</td>\n",
       "        </tr>\n",
       "        <tr>\n",
       "            <td>3</td>\n",
       "            <td>Luis</td>\n",
       "            <td>Martínez</td>\n",
       "            <td>Argentina</td>\n",
       "            <td>35</td>\n",
       "            <td>None</td>\n",
       "        </tr>\n",
       "        <tr>\n",
       "            <td>4</td>\n",
       "            <td>None</td>\n",
       "            <td>None</td>\n",
       "            <td>None</td>\n",
       "            <td>None</td>\n",
       "            <td>None</td>\n",
       "        </tr>\n",
       "        <tr>\n",
       "            <td>5</td>\n",
       "            <td>Carlos</td>\n",
       "            <td>González</td>\n",
       "            <td>Colombia</td>\n",
       "            <td>40</td>\n",
       "            <td>None</td>\n",
       "        </tr>\n",
       "        <tr>\n",
       "            <td>6</td>\n",
       "            <td>Laura</td>\n",
       "            <td>Fernández</td>\n",
       "            <td>Chile</td>\n",
       "            <td>22</td>\n",
       "            <td>None</td>\n",
       "        </tr>\n",
       "        <tr>\n",
       "            <td>7</td>\n",
       "            <td>Pedro</td>\n",
       "            <td>Sánchez</td>\n",
       "            <td>España</td>\n",
       "            <td>31</td>\n",
       "            <td>None</td>\n",
       "        </tr>\n",
       "        <tr>\n",
       "            <td>8</td>\n",
       "            <td>Jhon</td>\n",
       "            <td>Doe</td>\n",
       "            <td>Reino Unido</td>\n",
       "            <td>29</td>\n",
       "            <td>None</td>\n",
       "        </tr>\n",
       "        <tr>\n",
       "            <td>9</td>\n",
       "            <td>Isabel</td>\n",
       "            <td>Núñez</td>\n",
       "            <td>México</td>\n",
       "            <td>26</td>\n",
       "            <td>None</td>\n",
       "        </tr>\n",
       "        <tr>\n",
       "            <td>10</td>\n",
       "            <td>Miguel</td>\n",
       "            <td>Romero</td>\n",
       "            <td>Perú</td>\n",
       "            <td>33</td>\n",
       "            <td>None</td>\n",
       "        </tr>\n",
       "    </tbody>\n",
       "</table>"
      ],
      "text/plain": [
       "[(1, 'Juan', 'Pérez', 'España', 30, None),\n",
       " (2, 'Ana', 'García', 'España', 25, None),\n",
       " (3, 'Luis', 'Martínez', 'Argentina', 35, None),\n",
       " (4, None, None, None, None, None),\n",
       " (5, 'Carlos', 'González', 'Colombia', 40, None),\n",
       " (6, 'Laura', 'Fernández', 'Chile', 22, None),\n",
       " (7, 'Pedro', 'Sánchez', 'España', 31, None),\n",
       " (8, 'Jhon', 'Doe', 'Reino Unido', 29, None),\n",
       " (9, 'Isabel', 'Núñez', 'México', 26, None),\n",
       " (10, 'Miguel', 'Romero', 'Perú', 33, None)]"
      ]
     },
     "execution_count": 24,
     "metadata": {},
     "output_type": "execute_result"
    }
   ],
   "source": [
    "%%sql\n",
    "ALTER TABLE clientes\n",
    "ADD calle VARCHAR(50);\n",
    "\n",
    "SELECT * FROM clientes;\n"
   ]
  },
  {
   "cell_type": "markdown",
   "metadata": {},
   "source": [
    "\n",
    "<h3>Ejemplo de ALTER DROP</h3>\n",
    "<p>Este ejemplo elimina la columna <code>calle</code> de la tabla <code>clientes</code>:</p>\n"
   ]
  },
  {
   "cell_type": "code",
   "execution_count": 25,
   "metadata": {
    "vscode": {
     "languageId": "sql"
    }
   },
   "outputs": [
    {
     "name": "stdout",
     "output_type": "stream",
     "text": [
      " * sqlite:///:memory:\n",
      "Done.\n",
      "Done.\n"
     ]
    },
    {
     "data": {
      "text/html": [
       "<table>\n",
       "    <thead>\n",
       "        <tr>\n",
       "            <th>cliente_id</th>\n",
       "            <th>nombre</th>\n",
       "            <th>apellido</th>\n",
       "            <th>pais</th>\n",
       "            <th>edad</th>\n",
       "        </tr>\n",
       "    </thead>\n",
       "    <tbody>\n",
       "        <tr>\n",
       "            <td>1</td>\n",
       "            <td>Juan</td>\n",
       "            <td>Pérez</td>\n",
       "            <td>España</td>\n",
       "            <td>30</td>\n",
       "        </tr>\n",
       "        <tr>\n",
       "            <td>2</td>\n",
       "            <td>Ana</td>\n",
       "            <td>García</td>\n",
       "            <td>España</td>\n",
       "            <td>25</td>\n",
       "        </tr>\n",
       "        <tr>\n",
       "            <td>3</td>\n",
       "            <td>Luis</td>\n",
       "            <td>Martínez</td>\n",
       "            <td>Argentina</td>\n",
       "            <td>35</td>\n",
       "        </tr>\n",
       "        <tr>\n",
       "            <td>4</td>\n",
       "            <td>None</td>\n",
       "            <td>None</td>\n",
       "            <td>None</td>\n",
       "            <td>None</td>\n",
       "        </tr>\n",
       "        <tr>\n",
       "            <td>5</td>\n",
       "            <td>Carlos</td>\n",
       "            <td>González</td>\n",
       "            <td>Colombia</td>\n",
       "            <td>40</td>\n",
       "        </tr>\n",
       "        <tr>\n",
       "            <td>6</td>\n",
       "            <td>Laura</td>\n",
       "            <td>Fernández</td>\n",
       "            <td>Chile</td>\n",
       "            <td>22</td>\n",
       "        </tr>\n",
       "        <tr>\n",
       "            <td>7</td>\n",
       "            <td>Pedro</td>\n",
       "            <td>Sánchez</td>\n",
       "            <td>España</td>\n",
       "            <td>31</td>\n",
       "        </tr>\n",
       "        <tr>\n",
       "            <td>8</td>\n",
       "            <td>Jhon</td>\n",
       "            <td>Doe</td>\n",
       "            <td>Reino Unido</td>\n",
       "            <td>29</td>\n",
       "        </tr>\n",
       "        <tr>\n",
       "            <td>9</td>\n",
       "            <td>Isabel</td>\n",
       "            <td>Núñez</td>\n",
       "            <td>México</td>\n",
       "            <td>26</td>\n",
       "        </tr>\n",
       "        <tr>\n",
       "            <td>10</td>\n",
       "            <td>Miguel</td>\n",
       "            <td>Romero</td>\n",
       "            <td>Perú</td>\n",
       "            <td>33</td>\n",
       "        </tr>\n",
       "    </tbody>\n",
       "</table>"
      ],
      "text/plain": [
       "[(1, 'Juan', 'Pérez', 'España', 30),\n",
       " (2, 'Ana', 'García', 'España', 25),\n",
       " (3, 'Luis', 'Martínez', 'Argentina', 35),\n",
       " (4, None, None, None, None),\n",
       " (5, 'Carlos', 'González', 'Colombia', 40),\n",
       " (6, 'Laura', 'Fernández', 'Chile', 22),\n",
       " (7, 'Pedro', 'Sánchez', 'España', 31),\n",
       " (8, 'Jhon', 'Doe', 'Reino Unido', 29),\n",
       " (9, 'Isabel', 'Núñez', 'México', 26),\n",
       " (10, 'Miguel', 'Romero', 'Perú', 33)]"
      ]
     },
     "execution_count": 25,
     "metadata": {},
     "output_type": "execute_result"
    }
   ],
   "source": [
    "%%sql\n",
    "ALTER TABLE clientes\n",
    "DROP COLUMN calle;\n",
    "\n",
    "SELECT * FROM clientes;"
   ]
  },
  {
   "cell_type": "markdown",
   "metadata": {},
   "source": [
    "\n",
    "<h3>Ejemplo de ALTER MODIFY</h3>\n",
    "<p>En este ejemplo, se modifica la columna <code>nombre</code> de la tabla <code>clientes</code> para que sea de tipo <code>VARCHAR(100)</code>, pero antes vamos a ver como se ve la estructura de una tabla.</p>\n"
   ]
  },
  {
   "cell_type": "markdown",
   "metadata": {},
   "source": [
    "<h2>Ver la Estructura de una Tabla en SQLite</h2>\n",
    "\n",
    "<h3>Método 1: Usando PRAGMA</h3>\n",
    "<p>El siguiente comando muestra la estructura de la tabla <code>clientes</code>, incluyendo el nombre de cada columna, tipo de datos, si permite valores nulos, y si es una clave primaria:</p>\n"
   ]
  },
  {
   "cell_type": "code",
   "execution_count": 26,
   "metadata": {
    "vscode": {
     "languageId": "sql"
    }
   },
   "outputs": [
    {
     "name": "stdout",
     "output_type": "stream",
     "text": [
      " * sqlite:///:memory:\n",
      "Done.\n"
     ]
    },
    {
     "data": {
      "text/html": [
       "<table>\n",
       "    <thead>\n",
       "        <tr>\n",
       "            <th>cid</th>\n",
       "            <th>name</th>\n",
       "            <th>type</th>\n",
       "            <th>notnull</th>\n",
       "            <th>dflt_value</th>\n",
       "            <th>pk</th>\n",
       "        </tr>\n",
       "    </thead>\n",
       "    <tbody>\n",
       "        <tr>\n",
       "            <td>0</td>\n",
       "            <td>cliente_id</td>\n",
       "            <td>INTEGER</td>\n",
       "            <td>0</td>\n",
       "            <td>None</td>\n",
       "            <td>1</td>\n",
       "        </tr>\n",
       "        <tr>\n",
       "            <td>1</td>\n",
       "            <td>nombre</td>\n",
       "            <td>VARCHAR(50)</td>\n",
       "            <td>0</td>\n",
       "            <td>None</td>\n",
       "            <td>0</td>\n",
       "        </tr>\n",
       "        <tr>\n",
       "            <td>2</td>\n",
       "            <td>apellido</td>\n",
       "            <td>VARCHAR(50)</td>\n",
       "            <td>0</td>\n",
       "            <td>None</td>\n",
       "            <td>0</td>\n",
       "        </tr>\n",
       "        <tr>\n",
       "            <td>3</td>\n",
       "            <td>pais</td>\n",
       "            <td>VARCHAR(50)</td>\n",
       "            <td>0</td>\n",
       "            <td>None</td>\n",
       "            <td>0</td>\n",
       "        </tr>\n",
       "        <tr>\n",
       "            <td>4</td>\n",
       "            <td>edad</td>\n",
       "            <td>INTEGER</td>\n",
       "            <td>0</td>\n",
       "            <td>None</td>\n",
       "            <td>0</td>\n",
       "        </tr>\n",
       "    </tbody>\n",
       "</table>"
      ],
      "text/plain": [
       "[(0, 'cliente_id', 'INTEGER', 0, None, 1),\n",
       " (1, 'nombre', 'VARCHAR(50)', 0, None, 0),\n",
       " (2, 'apellido', 'VARCHAR(50)', 0, None, 0),\n",
       " (3, 'pais', 'VARCHAR(50)', 0, None, 0),\n",
       " (4, 'edad', 'INTEGER', 0, None, 0)]"
      ]
     },
     "execution_count": 26,
     "metadata": {},
     "output_type": "execute_result"
    }
   ],
   "source": [
    "%%sql\n",
    "PRAGMA table_info(clientes);"
   ]
  },
  {
   "cell_type": "markdown",
   "metadata": {},
   "source": [
    "\n",
    "<h3>Método 2: Usando sqlite_master</h3>\n",
    "<p>El siguiente comando consulta la tabla <code>sqlite_master</code> para obtener información sobre la estructura de la tabla <code>clientes</code>:</p>"
   ]
  },
  {
   "cell_type": "code",
   "execution_count": 27,
   "metadata": {
    "vscode": {
     "languageId": "sql"
    }
   },
   "outputs": [
    {
     "name": "stdout",
     "output_type": "stream",
     "text": [
      " * sqlite:///:memory:\n",
      "Done.\n"
     ]
    },
    {
     "data": {
      "text/html": [
       "<table>\n",
       "    <thead>\n",
       "        <tr>\n",
       "            <th>name</th>\n",
       "            <th>sql</th>\n",
       "        </tr>\n",
       "    </thead>\n",
       "    <tbody>\n",
       "        <tr>\n",
       "            <td>Clientes</td>\n",
       "            <td>CREATE TABLE Clientes (<br>    cliente_id INTEGER PRIMARY KEY,<br>    nombre VARCHAR(50),<br>    apellido VARCHAR(50),<br>    pais VARCHAR(50),<br>    edad INTEGER<br>)</td>\n",
       "        </tr>\n",
       "        <tr>\n",
       "            <td>Pedidos</td>\n",
       "            <td>CREATE TABLE Pedidos (<br>    pedido_id INT PRIMARY KEY,<br>    fecha DATE,<br>    producto VARCHAR(50),<br>    cantidad INT,<br>    cliente_id INT,<br>    pendiente BOOLEAN,<br>    FOREIGN KEY (cliente_id) REFERENCES Clientes(cliente_id)<br>)</td>\n",
       "        </tr>\n",
       "        <tr>\n",
       "            <td>Empleados</td>\n",
       "            <td>CREATE TABLE Empleados (<br>    id INTEGER PRIMARY KEY AUTOINCREMENT,<br>    nombre TEXT NOT NULL,<br>    departamento TEXT NOT NULL,<br>    salario REAL NOT NULL,<br>    correo TEXT<br>)</td>\n",
       "        </tr>\n",
       "        <tr>\n",
       "            <td>sqlite_sequence</td>\n",
       "            <td>CREATE TABLE sqlite_sequence(name,seq)</td>\n",
       "        </tr>\n",
       "    </tbody>\n",
       "</table>"
      ],
      "text/plain": [
       "[('Clientes', 'CREATE TABLE Clientes (\\n    cliente_id INTEGER PRIMARY KEY,\\n    nombre VARCHAR(50),\\n    apellido VARCHAR(50),\\n    pais VARCHAR(50),\\n    edad INTEGER\\n)'),\n",
       " ('Pedidos', 'CREATE TABLE Pedidos (\\n    pedido_id INT PRIMARY KEY,\\n    fecha DATE,\\n    producto VARCHAR(50),\\n    cantidad INT,\\n    cliente_id INT,\\n    pendiente BOOLEAN,\\n    FOREIGN KEY (cliente_id) REFERENCES Clientes(cliente_id)\\n)'),\n",
       " ('Empleados', 'CREATE TABLE Empleados (\\n    id INTEGER PRIMARY KEY AUTOINCREMENT,\\n    nombre TEXT NOT NULL,\\n    departamento TEXT NOT NULL,\\n    salario REAL NOT NULL,\\n    correo TEXT\\n)'),\n",
       " ('sqlite_sequence', 'CREATE TABLE sqlite_sequence(name,seq)')]"
      ]
     },
     "execution_count": 27,
     "metadata": {},
     "output_type": "execute_result"
    }
   ],
   "source": [
    "%%sql\n",
    "SELECT name, sql FROM sqlite_master WHERE type='table';"
   ]
  },
  {
   "cell_type": "markdown",
   "metadata": {},
   "source": [
    "\n",
    "<p>Este comando mostrará la sentencia SQL que define la estructura de la tabla, incluyendo las columnas y sus tipos de datos.</p>\n"
   ]
  },
  {
   "cell_type": "code",
   "execution_count": null,
   "metadata": {
    "vscode": {
     "languageId": "sql"
    }
   },
   "outputs": [
    {
     "name": "stdout",
     "output_type": "stream",
     "text": [
      " * sqlite:///:memory:\n",
      "(sqlite3.OperationalError) near \"MODIFY\": syntax error\n",
      "[SQL: ALTER TABLE clientes\n",
      "MODIFY nombre VARCHAR(100);]\n",
      "(Background on this error at: https://sqlalche.me/e/20/e3q8)\n"
     ]
    }
   ],
   "source": [
    "%%sql\n",
    "ALTER TABLE Clientes\n",
    "MODIFY nombre VARCHAR(100);"
   ]
  },
  {
   "cell_type": "markdown",
   "metadata": {},
   "source": [
    "<h2>Modificar el Tipo de una Columna en SQLite</h2>\n",
    "\n",
    "<p>SQLite no soporta el comando <code>MODIFY</code> para cambiar el tipo de una columna. En su lugar, debes seguir estos pasos:</p>\n",
    "\n",
    "<ol>\n",
    "  <li><strong>Crear una nueva tabla con la estructura deseada.</strong></li>\n",
    "  <p>Por ejemplo, si deseas cambiar la columna <code>nombre</code> a tipo <code>VARCHAR(100)</code>, crea la nueva tabla con el tipo de datos actualizado:</p>\n",
    "  <pre><code>CREATE TABLE clientes_nueva (\n",
    "    id INTEGER PRIMARY KEY,\n",
    "    nombre VARCHAR(100),\n",
    "    edad INTEGER\n",
    ");</code></pre>\n",
    "\n",
    "  <li><strong>Copiar los datos de la tabla original a la nueva tabla.</strong></li>\n",
    "  <p>Usa una instrucción <code>INSERT INTO ... SELECT</code> para transferir los datos:</p>\n",
    "  <pre><code>INSERT INTO clientes_nueva (id, nombre, edad)\n",
    "SELECT id, nombre, edad FROM clientes;</code></pre>\n",
    "\n",
    "  <li><strong>Eliminar la tabla original.</strong></li>\n",
    "  <p>Elimina la tabla original con <code>DROP TABLE</code>:</p>\n",
    "  <pre><code>DROP TABLE clientes;</code></pre>\n",
    "\n",
    "  <li><strong>Renombrar la nueva tabla.</strong></li>\n",
    "  <p>Cambia el nombre de la nueva tabla para que coincida con el de la tabla original:</p>\n",
    "  <pre><code>ALTER TABLE clientes_nueva RENAME TO clientes;</code></pre>\n",
    "</ol>\n",
    "\n",
    "<p>Este procedimiento es la forma de cambiar el tipo de columna en SQLite, ya que no se puede hacer directamente con <code style=\"color: red;\">MODIFY</code>.</p>\n"
   ]
  },
  {
   "cell_type": "markdown",
   "metadata": {},
   "source": [
    "\n",
    "<h3 style= \"color: red;\">Comando DROP</h3>\n",
    "<p style= \"color: red;\">El comando <strong><code>DROP</code></strong> se utiliza para eliminar objetos de la base de datos, como tablas, vistas, índices o bases de datos completas. Al usar este comando, los datos y la estructura del objeto se eliminan permanentemente, y no se pueden recuperar sin un respaldo previo.</p>\n",
    "<p style= \"color: red;\">Ejemplos comunes del comando DROP:</p>\n",
    "<ul>\n",
    "  <li style= \"color: red;\"><code>DROP TABLE nombre_tabla;</code>: Elimina una tabla completa de la base de datos.</li>\n",
    "  <li style= \"color: red;\"><code>DROP VIEW nombre_vista;</code>: Elimina una vista de la base de datos.</li>\n",
    "  <li style= \"color: red;\"><code>DROP DATABASE nombre_base_datos;</code>: Elimina toda la base de datos.</li>\n",
    "</ul>\n",
    "<p style= \"color: red;\">Es importante tener cuidado al utilizar el comando DROP, ya que no se pueden recuperar los datos una vez eliminados.</p>\n"
   ]
  }
 ],
 "metadata": {
  "kernelspec": {
   "display_name": "Python 3",
   "language": "python",
   "name": "python3"
  },
  "language_info": {
   "codemirror_mode": {
    "name": "ipython",
    "version": 3
   },
   "file_extension": ".py",
   "mimetype": "text/x-python",
   "name": "python",
   "nbconvert_exporter": "python",
   "pygments_lexer": "ipython3",
   "version": "3.12.0"
  }
 },
 "nbformat": 4,
 "nbformat_minor": 2
}
