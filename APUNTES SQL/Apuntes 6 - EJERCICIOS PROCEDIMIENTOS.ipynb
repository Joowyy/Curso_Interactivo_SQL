{
 "cells": [
  {
   "cell_type": "markdown",
   "metadata": {},
   "source": [
    "<h3>EJERCICIOS PROCEDIMIENTOS</h3>"
   ]
  },
  {
   "cell_type": "code",
   "execution_count": null,
   "metadata": {},
   "outputs": [],
   "source": [
    "1️⃣ Crear un procedimiento para obtener todos los pedidos de un cliente dado su cliente_id\n",
    "2️⃣ Crear un procedimiento para actualizar el salario de un empleado dado su correo\n",
    "3️⃣ Crear un procedimiento que inserte un nuevo cliente en la tabla Clientes\n",
    "4️⃣ Crear un procedimiento que devuelva el total gastado por un cliente (cliente_id) en pedidos completados (pendiente = FALSE)\n",
    "5️⃣ Crear un procedimiento que devuelva el número de pedidos realizados por cada cliente\n",
    "6️⃣ Crear un procedimiento que elimine un pedido dado su pedido_id\n",
    "7️⃣ Crear un procedimiento que liste los empleados con salarios superiores a un valor dado\n",
    "8️⃣ Crear un procedimiento que cambie el departamento de un empleado dado su correo\n",
    "9️⃣ Crear un procedimiento que devuelva el nombre y apellido del cliente con más pedidos realizados\n",
    "🔟 Crear un procedimiento que marque todos los pedidos como completados (pendiente = FALSE) para un cliente dado"
   ]
  }
 ],
 "metadata": {
  "kernelspec": {
   "display_name": "Python 3",
   "language": "python",
   "name": "python3"
  },
  "language_info": {
   "name": "python",
   "version": "3.12.0"
  }
 },
 "nbformat": 4,
 "nbformat_minor": 2
}
